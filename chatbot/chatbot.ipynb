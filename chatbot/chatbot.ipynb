{
 "cells": [
  {
   "cell_type": "code",
   "execution_count": 1,
   "metadata": {},
   "outputs": [
    {
     "name": "stderr",
     "output_type": "stream",
     "text": [
      "[nltk_data] Downloading package punkt to\n",
      "[nltk_data]     C:\\Users\\EMREHAN\\AppData\\Roaming\\nltk_data...\n",
      "[nltk_data]   Package punkt is already up-to-date!\n",
      "[nltk_data] Downloading package stopwords to\n",
      "[nltk_data]     C:\\Users\\EMREHAN\\AppData\\Roaming\\nltk_data...\n",
      "[nltk_data]   Package stopwords is already up-to-date!\n"
     ]
    }
   ],
   "source": [
    "import re\n",
    "import nltk\n",
    "import pandas as pd\n",
    "from nltk.corpus import stopwords\n",
    "from nltk.tokenize import word_tokenize\n",
    "from TurkishStemmer import TurkishStemmer\n",
    "\n",
    "\n",
    "nltk.download('punkt')\n",
    "nltk.download('stopwords')\n",
    "\n",
    "stemmer = TurkishStemmer()\n",
    "\n",
    "def preprocess_text(text):\n",
    "    text = text.lower()\n",
    "    text = re.sub(r'[^\\w\\s]', '', text)\n",
    "    tokens = word_tokenize(text, language='turkish')\n",
    "    \n",
    "    \n",
    "    turkish_stopwords = set(stopwords.words('turkish'))\n",
    "    tokens = [token for token in tokens if token not in turkish_stopwords]\n",
    "    \n",
    "    \n",
    "    tokens = [stemmer.stem(token) for token in tokens]\n",
    "    return tokens\n"
   ]
  },
  {
   "cell_type": "code",
   "execution_count": 2,
   "metadata": {},
   "outputs": [
    {
     "data": {
      "text/html": [
       "<div>\n",
       "<style scoped>\n",
       "    .dataframe tbody tr th:only-of-type {\n",
       "        vertical-align: middle;\n",
       "    }\n",
       "\n",
       "    .dataframe tbody tr th {\n",
       "        vertical-align: top;\n",
       "    }\n",
       "\n",
       "    .dataframe thead th {\n",
       "        text-align: right;\n",
       "    }\n",
       "</style>\n",
       "<table border=\"1\" class=\"dataframe\">\n",
       "  <thead>\n",
       "    <tr style=\"text-align: right;\">\n",
       "      <th></th>\n",
       "      <th>Unnamed: 0</th>\n",
       "      <th>Unnamed: 0.1</th>\n",
       "      <th>Image</th>\n",
       "      <th>Link</th>\n",
       "      <th>Price</th>\n",
       "      <th>Product Name</th>\n",
       "      <th>Reviews</th>\n",
       "      <th>label</th>\n",
       "      <th>tokenized_reviews</th>\n",
       "    </tr>\n",
       "  </thead>\n",
       "  <tbody>\n",
       "    <tr>\n",
       "      <th>0</th>\n",
       "      <td>0</td>\n",
       "      <td>0</td>\n",
       "      <td>https://n11scdn.akamaized.net/a1/226_339/10/26...</td>\n",
       "      <td>https://www.n11.com/urun/onda-oliver-book-a1-n...</td>\n",
       "      <td>4.999 TL</td>\n",
       "      <td>Onda Oliver Book A1 N5030 8 GB 128 GB SSD 10.1...</td>\n",
       "      <td>boyutuna göre güzel iş çıkarıyor fiyat perform...</td>\n",
       "      <td>pozitif</td>\n",
       "      <td>['boyutuna', 'gore', 'guzel', 'is', 'cıkarıyor...</td>\n",
       "    </tr>\n",
       "    <tr>\n",
       "      <th>1</th>\n",
       "      <td>2</td>\n",
       "      <td>2</td>\n",
       "      <td>https://m.media-amazon.com/images/I/51FErozFOZ...</td>\n",
       "      <td>https://www.amazon.com.tr/Notebook-Laptop-F150...</td>\n",
       "      <td>13.649 TL</td>\n",
       "      <td>Asus Notebook Laptop, F1502ZA-EJ1531 FHD, i3-1...</td>\n",
       "      <td>gayet iyi bir laptopindirimdeyken aldım öğrenc...</td>\n",
       "      <td>pozitif</td>\n",
       "      <td>['gayet', 'iyi', 'bir', 'laptopindirimdeyken',...</td>\n",
       "    </tr>\n",
       "    <tr>\n",
       "      <th>2</th>\n",
       "      <td>3</td>\n",
       "      <td>3</td>\n",
       "      <td>https://m.media-amazon.com/images/I/51FErozFOZ...</td>\n",
       "      <td>https://www.amazon.com.tr/Notebook-Laptop-F150...</td>\n",
       "      <td>13.649 TL</td>\n",
       "      <td>Asus Notebook Laptop, F1502ZA-EJ1531 FHD, i3-1...</td>\n",
       "      <td>genel nette ofis programları ideal öğrencinin ...</td>\n",
       "      <td>pozitif</td>\n",
       "      <td>['genel', 'nette', 'ofis', 'programları', 'ide...</td>\n",
       "    </tr>\n",
       "    <tr>\n",
       "      <th>3</th>\n",
       "      <td>4</td>\n",
       "      <td>4</td>\n",
       "      <td>https://m.media-amazon.com/images/I/51FErozFOZ...</td>\n",
       "      <td>https://www.amazon.com.tr/Notebook-Laptop-F150...</td>\n",
       "      <td>13.649 TL</td>\n",
       "      <td>Asus Notebook Laptop, F1502ZA-EJ1531 FHD, i3-1...</td>\n",
       "      <td>kasa kalitesi ekran kalitesi konularda handika...</td>\n",
       "      <td>pozitif</td>\n",
       "      <td>['kasa', 'kalitesi', 'ekran', 'kalitesi', 'kon...</td>\n",
       "    </tr>\n",
       "    <tr>\n",
       "      <th>4</th>\n",
       "      <td>5</td>\n",
       "      <td>5</td>\n",
       "      <td>https://m.media-amazon.com/images/I/51FErozFOZ...</td>\n",
       "      <td>https://www.amazon.com.tr/Notebook-Laptop-F150...</td>\n",
       "      <td>13.649 TL</td>\n",
       "      <td>Asus Notebook Laptop, F1502ZA-EJ1531 FHD, i3-1...</td>\n",
       "      <td>kullanış şekli gayet yeterli farklı beklentile...</td>\n",
       "      <td>pozitif</td>\n",
       "      <td>['kullanıs', 'sekli', 'gayet', 'yeterli', 'far...</td>\n",
       "    </tr>\n",
       "  </tbody>\n",
       "</table>\n",
       "</div>"
      ],
      "text/plain": [
       "   Unnamed: 0  Unnamed: 0.1  \\\n",
       "0           0             0   \n",
       "1           2             2   \n",
       "2           3             3   \n",
       "3           4             4   \n",
       "4           5             5   \n",
       "\n",
       "                                               Image  \\\n",
       "0  https://n11scdn.akamaized.net/a1/226_339/10/26...   \n",
       "1  https://m.media-amazon.com/images/I/51FErozFOZ...   \n",
       "2  https://m.media-amazon.com/images/I/51FErozFOZ...   \n",
       "3  https://m.media-amazon.com/images/I/51FErozFOZ...   \n",
       "4  https://m.media-amazon.com/images/I/51FErozFOZ...   \n",
       "\n",
       "                                                Link      Price  \\\n",
       "0  https://www.n11.com/urun/onda-oliver-book-a1-n...   4.999 TL   \n",
       "1  https://www.amazon.com.tr/Notebook-Laptop-F150...  13.649 TL   \n",
       "2  https://www.amazon.com.tr/Notebook-Laptop-F150...  13.649 TL   \n",
       "3  https://www.amazon.com.tr/Notebook-Laptop-F150...  13.649 TL   \n",
       "4  https://www.amazon.com.tr/Notebook-Laptop-F150...  13.649 TL   \n",
       "\n",
       "                                        Product Name  \\\n",
       "0  Onda Oliver Book A1 N5030 8 GB 128 GB SSD 10.1...   \n",
       "1  Asus Notebook Laptop, F1502ZA-EJ1531 FHD, i3-1...   \n",
       "2  Asus Notebook Laptop, F1502ZA-EJ1531 FHD, i3-1...   \n",
       "3  Asus Notebook Laptop, F1502ZA-EJ1531 FHD, i3-1...   \n",
       "4  Asus Notebook Laptop, F1502ZA-EJ1531 FHD, i3-1...   \n",
       "\n",
       "                                             Reviews    label  \\\n",
       "0  boyutuna göre güzel iş çıkarıyor fiyat perform...  pozitif   \n",
       "1  gayet iyi bir laptopindirimdeyken aldım öğrenc...  pozitif   \n",
       "2  genel nette ofis programları ideal öğrencinin ...  pozitif   \n",
       "3  kasa kalitesi ekran kalitesi konularda handika...  pozitif   \n",
       "4  kullanış şekli gayet yeterli farklı beklentile...  pozitif   \n",
       "\n",
       "                                   tokenized_reviews  \n",
       "0  ['boyutuna', 'gore', 'guzel', 'is', 'cıkarıyor...  \n",
       "1  ['gayet', 'iyi', 'bir', 'laptopindirimdeyken',...  \n",
       "2  ['genel', 'nette', 'ofis', 'programları', 'ide...  \n",
       "3  ['kasa', 'kalitesi', 'ekran', 'kalitesi', 'kon...  \n",
       "4  ['kullanıs', 'sekli', 'gayet', 'yeterli', 'far...  "
      ]
     },
     "execution_count": 2,
     "metadata": {},
     "output_type": "execute_result"
    }
   ],
   "source": [
    "df = pd.read_csv(\"C://Users/Emrehan/Desktop/Emrehan Simsek/veri çekme selenium/training/all_laptop_reviews.csv\")\n",
    "df.head()"
   ]
  },
  {
   "cell_type": "code",
   "execution_count": 3,
   "metadata": {},
   "outputs": [
    {
     "data": {
      "text/plain": [
       "0    [on, oliver, book, a1, n5030, 8, gb, 128, gb, ...\n",
       "1    [asus, notebook, laptop, f1502zaej1531, fhd, i...\n",
       "2    [asus, notebook, laptop, f1502zaej1531, fhd, i...\n",
       "3    [asus, notebook, laptop, f1502zaej1531, fhd, i...\n",
       "4    [asus, notebook, laptop, f1502zaej1531, fhd, i...\n",
       "5    [asus, notebook, laptop, f1502zaej1531, fhd, i...\n",
       "6    [asus, notebook, laptop, f1502zaej1531, fhd, i...\n",
       "7    [asus, notebook, laptop, f1502zaej1531, fhd, i...\n",
       "8    [asus, notebook, laptop, f1502zaej1531, fhd, i...\n",
       "9    [asus, notebook, laptop, f1502zaej1531, fhd, i...\n",
       "Name: preprocessed_title, dtype: object"
      ]
     },
     "execution_count": 3,
     "metadata": {},
     "output_type": "execute_result"
    }
   ],
   "source": [
    "df['preprocessed_title'] = df['Product Name'].apply(preprocess_text)\n",
    "df['preprocessed_title'].head(10)"
   ]
  },
  {
   "cell_type": "code",
   "execution_count": 4,
   "metadata": {},
   "outputs": [],
   "source": [
    "del df[\"Unnamed: 0\"]\n",
    "del df[\"Unnamed: 0.1\"]"
   ]
  },
  {
   "cell_type": "code",
   "execution_count": 5,
   "metadata": {},
   "outputs": [
    {
     "data": {
      "text/html": [
       "<div>\n",
       "<style scoped>\n",
       "    .dataframe tbody tr th:only-of-type {\n",
       "        vertical-align: middle;\n",
       "    }\n",
       "\n",
       "    .dataframe tbody tr th {\n",
       "        vertical-align: top;\n",
       "    }\n",
       "\n",
       "    .dataframe thead th {\n",
       "        text-align: right;\n",
       "    }\n",
       "</style>\n",
       "<table border=\"1\" class=\"dataframe\">\n",
       "  <thead>\n",
       "    <tr style=\"text-align: right;\">\n",
       "      <th></th>\n",
       "      <th>Image</th>\n",
       "      <th>Link</th>\n",
       "      <th>Price</th>\n",
       "      <th>Product Name</th>\n",
       "      <th>Reviews</th>\n",
       "      <th>label</th>\n",
       "      <th>tokenized_reviews</th>\n",
       "      <th>preprocessed_title</th>\n",
       "    </tr>\n",
       "  </thead>\n",
       "  <tbody>\n",
       "    <tr>\n",
       "      <th>0</th>\n",
       "      <td>https://n11scdn.akamaized.net/a1/226_339/10/26...</td>\n",
       "      <td>https://www.n11.com/urun/onda-oliver-book-a1-n...</td>\n",
       "      <td>4.999 TL</td>\n",
       "      <td>Onda Oliver Book A1 N5030 8 GB 128 GB SSD 10.1...</td>\n",
       "      <td>boyutuna göre güzel iş çıkarıyor fiyat perform...</td>\n",
       "      <td>pozitif</td>\n",
       "      <td>['boyutuna', 'gore', 'guzel', 'is', 'cıkarıyor...</td>\n",
       "      <td>[on, oliver, book, a1, n5030, 8, gb, 128, gb, ...</td>\n",
       "    </tr>\n",
       "    <tr>\n",
       "      <th>1</th>\n",
       "      <td>https://m.media-amazon.com/images/I/51FErozFOZ...</td>\n",
       "      <td>https://www.amazon.com.tr/Notebook-Laptop-F150...</td>\n",
       "      <td>13.649 TL</td>\n",
       "      <td>Asus Notebook Laptop, F1502ZA-EJ1531 FHD, i3-1...</td>\n",
       "      <td>gayet iyi bir laptopindirimdeyken aldım öğrenc...</td>\n",
       "      <td>pozitif</td>\n",
       "      <td>['gayet', 'iyi', 'bir', 'laptopindirimdeyken',...</td>\n",
       "      <td>[asus, notebook, laptop, f1502zaej1531, fhd, i...</td>\n",
       "    </tr>\n",
       "    <tr>\n",
       "      <th>2</th>\n",
       "      <td>https://m.media-amazon.com/images/I/51FErozFOZ...</td>\n",
       "      <td>https://www.amazon.com.tr/Notebook-Laptop-F150...</td>\n",
       "      <td>13.649 TL</td>\n",
       "      <td>Asus Notebook Laptop, F1502ZA-EJ1531 FHD, i3-1...</td>\n",
       "      <td>genel nette ofis programları ideal öğrencinin ...</td>\n",
       "      <td>pozitif</td>\n",
       "      <td>['genel', 'nette', 'ofis', 'programları', 'ide...</td>\n",
       "      <td>[asus, notebook, laptop, f1502zaej1531, fhd, i...</td>\n",
       "    </tr>\n",
       "    <tr>\n",
       "      <th>3</th>\n",
       "      <td>https://m.media-amazon.com/images/I/51FErozFOZ...</td>\n",
       "      <td>https://www.amazon.com.tr/Notebook-Laptop-F150...</td>\n",
       "      <td>13.649 TL</td>\n",
       "      <td>Asus Notebook Laptop, F1502ZA-EJ1531 FHD, i3-1...</td>\n",
       "      <td>kasa kalitesi ekran kalitesi konularda handika...</td>\n",
       "      <td>pozitif</td>\n",
       "      <td>['kasa', 'kalitesi', 'ekran', 'kalitesi', 'kon...</td>\n",
       "      <td>[asus, notebook, laptop, f1502zaej1531, fhd, i...</td>\n",
       "    </tr>\n",
       "    <tr>\n",
       "      <th>4</th>\n",
       "      <td>https://m.media-amazon.com/images/I/51FErozFOZ...</td>\n",
       "      <td>https://www.amazon.com.tr/Notebook-Laptop-F150...</td>\n",
       "      <td>13.649 TL</td>\n",
       "      <td>Asus Notebook Laptop, F1502ZA-EJ1531 FHD, i3-1...</td>\n",
       "      <td>kullanış şekli gayet yeterli farklı beklentile...</td>\n",
       "      <td>pozitif</td>\n",
       "      <td>['kullanıs', 'sekli', 'gayet', 'yeterli', 'far...</td>\n",
       "      <td>[asus, notebook, laptop, f1502zaej1531, fhd, i...</td>\n",
       "    </tr>\n",
       "    <tr>\n",
       "      <th>...</th>\n",
       "      <td>...</td>\n",
       "      <td>...</td>\n",
       "      <td>...</td>\n",
       "      <td>...</td>\n",
       "      <td>...</td>\n",
       "      <td>...</td>\n",
       "      <td>...</td>\n",
       "      <td>...</td>\n",
       "    </tr>\n",
       "    <tr>\n",
       "      <th>21462</th>\n",
       "      <td>https://cdn.dsmcdn.com/ty127/product/media/ima...</td>\n",
       "      <td>https://www.trendyol.com/lenovo/ideapad-3-81w1...</td>\n",
       "      <td>13.999 TL</td>\n",
       "      <td>LENOVO Ideapad 3 81W100S3TX</td>\n",
       "      <td>ürünün paketlemesi oldukça iyiydi yorumlarda ç...</td>\n",
       "      <td>pozitif</td>\n",
       "      <td>['urunun', 'paketlemesi', 'oldukca', 'iyiydi',...</td>\n",
       "      <td>[lenovo, ideapad, 3, 81w100s3tx]</td>\n",
       "    </tr>\n",
       "    <tr>\n",
       "      <th>21463</th>\n",
       "      <td>https://cdn.dsmcdn.com/ty127/product/media/ima...</td>\n",
       "      <td>https://www.trendyol.com/lenovo/ideapad-3-81w1...</td>\n",
       "      <td>13.999 TL</td>\n",
       "      <td>LENOVO Ideapad 3 81W100S3TX</td>\n",
       "      <td>yalnızca ethernet kablo yeri olmayışı üzücü ol...</td>\n",
       "      <td>negatif</td>\n",
       "      <td>['yalnızca', 'ethernet', 'kablo', 'yeri', 'olm...</td>\n",
       "      <td>[lenovo, ideapad, 3, 81w100s3tx]</td>\n",
       "    </tr>\n",
       "    <tr>\n",
       "      <th>21464</th>\n",
       "      <td>https://cdn.dsmcdn.com/ty127/product/media/ima...</td>\n",
       "      <td>https://www.trendyol.com/lenovo/ideapad-3-81w1...</td>\n",
       "      <td>13.999 TL</td>\n",
       "      <td>LENOVO Ideapad 3 81W100S3TX</td>\n",
       "      <td>notebook yerine toner gönderip yanlışlıkla olm...</td>\n",
       "      <td>negatif</td>\n",
       "      <td>['notebook', 'yerine', 'toner', 'gonderip', 'y...</td>\n",
       "      <td>[lenovo, ideapad, 3, 81w100s3tx]</td>\n",
       "    </tr>\n",
       "    <tr>\n",
       "      <th>21465</th>\n",
       "      <td>https://n11scdn.akamaized.net/a1/226_339/09/81...</td>\n",
       "      <td>https://www.n11.com/urun/dell-g15-5530-g553024...</td>\n",
       "      <td>36.499 TL</td>\n",
       "      <td>Dell G15 5530 G55302401005U i7-13650HX 16 GB 5...</td>\n",
       "      <td>2 günde elime ulaştı paketleme güzei 2 bir kol...</td>\n",
       "      <td>pozitif</td>\n",
       "      <td>['2', 'gunde', 'elime', 'ulastı', 'paketleme',...</td>\n",
       "      <td>[dell, g15, 5530, g55302401005u, i713650hx, 16...</td>\n",
       "    </tr>\n",
       "    <tr>\n",
       "      <th>21466</th>\n",
       "      <td>https://n11scdn.akamaized.net/a1/226_339/09/81...</td>\n",
       "      <td>https://www.n11.com/urun/dell-g15-5530-g553024...</td>\n",
       "      <td>36.499 TL</td>\n",
       "      <td>Dell G15 5530 G55302401005U i7-13650HX 16 GB 5...</td>\n",
       "      <td>31122024</td>\n",
       "      <td>negatif</td>\n",
       "      <td>['31122024']</td>\n",
       "      <td>[dell, g15, 5530, g55302401005u, i713650hx, 16...</td>\n",
       "    </tr>\n",
       "  </tbody>\n",
       "</table>\n",
       "<p>21467 rows × 8 columns</p>\n",
       "</div>"
      ],
      "text/plain": [
       "                                                   Image  \\\n",
       "0      https://n11scdn.akamaized.net/a1/226_339/10/26...   \n",
       "1      https://m.media-amazon.com/images/I/51FErozFOZ...   \n",
       "2      https://m.media-amazon.com/images/I/51FErozFOZ...   \n",
       "3      https://m.media-amazon.com/images/I/51FErozFOZ...   \n",
       "4      https://m.media-amazon.com/images/I/51FErozFOZ...   \n",
       "...                                                  ...   \n",
       "21462  https://cdn.dsmcdn.com/ty127/product/media/ima...   \n",
       "21463  https://cdn.dsmcdn.com/ty127/product/media/ima...   \n",
       "21464  https://cdn.dsmcdn.com/ty127/product/media/ima...   \n",
       "21465  https://n11scdn.akamaized.net/a1/226_339/09/81...   \n",
       "21466  https://n11scdn.akamaized.net/a1/226_339/09/81...   \n",
       "\n",
       "                                                    Link      Price  \\\n",
       "0      https://www.n11.com/urun/onda-oliver-book-a1-n...   4.999 TL   \n",
       "1      https://www.amazon.com.tr/Notebook-Laptop-F150...  13.649 TL   \n",
       "2      https://www.amazon.com.tr/Notebook-Laptop-F150...  13.649 TL   \n",
       "3      https://www.amazon.com.tr/Notebook-Laptop-F150...  13.649 TL   \n",
       "4      https://www.amazon.com.tr/Notebook-Laptop-F150...  13.649 TL   \n",
       "...                                                  ...        ...   \n",
       "21462  https://www.trendyol.com/lenovo/ideapad-3-81w1...  13.999 TL   \n",
       "21463  https://www.trendyol.com/lenovo/ideapad-3-81w1...  13.999 TL   \n",
       "21464  https://www.trendyol.com/lenovo/ideapad-3-81w1...  13.999 TL   \n",
       "21465  https://www.n11.com/urun/dell-g15-5530-g553024...  36.499 TL   \n",
       "21466  https://www.n11.com/urun/dell-g15-5530-g553024...  36.499 TL   \n",
       "\n",
       "                                            Product Name  \\\n",
       "0      Onda Oliver Book A1 N5030 8 GB 128 GB SSD 10.1...   \n",
       "1      Asus Notebook Laptop, F1502ZA-EJ1531 FHD, i3-1...   \n",
       "2      Asus Notebook Laptop, F1502ZA-EJ1531 FHD, i3-1...   \n",
       "3      Asus Notebook Laptop, F1502ZA-EJ1531 FHD, i3-1...   \n",
       "4      Asus Notebook Laptop, F1502ZA-EJ1531 FHD, i3-1...   \n",
       "...                                                  ...   \n",
       "21462                        LENOVO Ideapad 3 81W100S3TX   \n",
       "21463                        LENOVO Ideapad 3 81W100S3TX   \n",
       "21464                        LENOVO Ideapad 3 81W100S3TX   \n",
       "21465  Dell G15 5530 G55302401005U i7-13650HX 16 GB 5...   \n",
       "21466  Dell G15 5530 G55302401005U i7-13650HX 16 GB 5...   \n",
       "\n",
       "                                                 Reviews    label  \\\n",
       "0      boyutuna göre güzel iş çıkarıyor fiyat perform...  pozitif   \n",
       "1      gayet iyi bir laptopindirimdeyken aldım öğrenc...  pozitif   \n",
       "2      genel nette ofis programları ideal öğrencinin ...  pozitif   \n",
       "3      kasa kalitesi ekran kalitesi konularda handika...  pozitif   \n",
       "4      kullanış şekli gayet yeterli farklı beklentile...  pozitif   \n",
       "...                                                  ...      ...   \n",
       "21462  ürünün paketlemesi oldukça iyiydi yorumlarda ç...  pozitif   \n",
       "21463  yalnızca ethernet kablo yeri olmayışı üzücü ol...  negatif   \n",
       "21464  notebook yerine toner gönderip yanlışlıkla olm...  negatif   \n",
       "21465  2 günde elime ulaştı paketleme güzei 2 bir kol...  pozitif   \n",
       "21466                                           31122024  negatif   \n",
       "\n",
       "                                       tokenized_reviews  \\\n",
       "0      ['boyutuna', 'gore', 'guzel', 'is', 'cıkarıyor...   \n",
       "1      ['gayet', 'iyi', 'bir', 'laptopindirimdeyken',...   \n",
       "2      ['genel', 'nette', 'ofis', 'programları', 'ide...   \n",
       "3      ['kasa', 'kalitesi', 'ekran', 'kalitesi', 'kon...   \n",
       "4      ['kullanıs', 'sekli', 'gayet', 'yeterli', 'far...   \n",
       "...                                                  ...   \n",
       "21462  ['urunun', 'paketlemesi', 'oldukca', 'iyiydi',...   \n",
       "21463  ['yalnızca', 'ethernet', 'kablo', 'yeri', 'olm...   \n",
       "21464  ['notebook', 'yerine', 'toner', 'gonderip', 'y...   \n",
       "21465  ['2', 'gunde', 'elime', 'ulastı', 'paketleme',...   \n",
       "21466                                       ['31122024']   \n",
       "\n",
       "                                      preprocessed_title  \n",
       "0      [on, oliver, book, a1, n5030, 8, gb, 128, gb, ...  \n",
       "1      [asus, notebook, laptop, f1502zaej1531, fhd, i...  \n",
       "2      [asus, notebook, laptop, f1502zaej1531, fhd, i...  \n",
       "3      [asus, notebook, laptop, f1502zaej1531, fhd, i...  \n",
       "4      [asus, notebook, laptop, f1502zaej1531, fhd, i...  \n",
       "...                                                  ...  \n",
       "21462                   [lenovo, ideapad, 3, 81w100s3tx]  \n",
       "21463                   [lenovo, ideapad, 3, 81w100s3tx]  \n",
       "21464                   [lenovo, ideapad, 3, 81w100s3tx]  \n",
       "21465  [dell, g15, 5530, g55302401005u, i713650hx, 16...  \n",
       "21466  [dell, g15, 5530, g55302401005u, i713650hx, 16...  \n",
       "\n",
       "[21467 rows x 8 columns]"
      ]
     },
     "execution_count": 5,
     "metadata": {},
     "output_type": "execute_result"
    }
   ],
   "source": [
    "df"
   ]
  },
  {
   "cell_type": "code",
   "execution_count": 6,
   "metadata": {},
   "outputs": [],
   "source": [
    "df['preprocessed_str'] = df['preprocessed_title'].apply(lambda tokens: ' '.join(tokens))"
   ]
  },
  {
   "cell_type": "code",
   "execution_count": 7,
   "metadata": {},
   "outputs": [],
   "source": [
    "def compute_laptop_score(group):\n",
    "    sentiments = group[\"label\"].value_counts()\n",
    "    total_reviews = len(group)\n",
    "    if total_reviews == 0:\n",
    "        return 0\n",
    "    positive_percentage = (sentiments.get(\"pozitif\", 0) / total_reviews) * 100\n",
    "    score = positive_percentage * math.log(total_reviews + 1)\n",
    "    return score"
   ]
  },
  {
   "cell_type": "code",
   "execution_count": 29,
   "metadata": {},
   "outputs": [],
   "source": [
    "import math\n",
    "def extract_brand(query):\n",
    "    brands = [\"asus\", \"lenovo\", \"dell\", \"hp\", \"acer\", \"msi\", \"apple\", \"razer\", \"monster\", \"casper\", \"huawei\", \"samsung\"]\n",
    "    query_lower = query.lower()\n",
    "    for brand in brands:\n",
    "        if brand in query_lower:\n",
    "            return brand\n",
    "    return None\n",
    "\n",
    "# RAM değeri ayıklama fonksiyonu: sorgudan \"16 gb\" gibi ifadeyi çıkartır.\n",
    "def extract_ram(query):\n",
    "    match = re.search(r'(\\d+)\\s*gb', query, re.IGNORECASE)\n",
    "    if match:\n",
    "        return match.group(1)  # Örneğin \"16\"\n",
    "    return None\n",
    "\n",
    "# Yorumlardan skor hesaplama fonksiyonu\n",
    "def compute_laptop_score(group):\n",
    "    sentiments = group[\"label\"].value_counts()\n",
    "    total_reviews = len(group)\n",
    "    if total_reviews == 0:\n",
    "        return 0\n",
    "    positive_percentage = (sentiments.get(\"pozitif\", 0) / total_reviews) * 100\n",
    "    score = positive_percentage * math.log(total_reviews + 1)\n",
    "    return score\n",
    "\n",
    "# Gelişmiş ürün önerme fonksiyonu: marka ve RAM filtresini de ekliyoruz.\n",
    "def get_top_laptops_by_keywords(query, df, top_n=5):\n",
    "    # Sorgudan marka ve RAM bilgilerini ayıklıyoruz.\n",
    "    brand = extract_brand(query)\n",
    "    ram = extract_ram(query)\n",
    "    \n",
    "    # Sorguyu ön işleme tabi tutarak anahtar kelimeleri elde ediyoruz.\n",
    "    keywords = preprocess_text(query)\n",
    "    if not keywords:\n",
    "        return \"Üzgünüm, arama kriterlerini belirleyemedim.\"\n",
    "    \n",
    "    # Ürün başlıklarının ön işlenmiş hali yoksa oluşturuyoruz.\n",
    "    if 'preprocessed_str' not in df.columns:\n",
    "        df['preprocessed_title'] = df['Product Name'].apply(preprocess_text)\n",
    "        df['preprocessed_str'] = df['preprocessed_title'].apply(lambda tokens: ' '.join(tokens))\n",
    "    \n",
    "    # Eğer marka varsa, önce sadece o markalı ürünleri filtreleyelim.\n",
    "    if brand:\n",
    "        df = df[df['preprocessed_str'].str.contains(brand)]\n",
    "    \n",
    "    # Eğer sorguda RAM bilgisi varsa, ürün başlığında da bu değerin geçmesini bekleyelim.\n",
    "    if ram:\n",
    "        # Örneğin \"16 gb\" veya \"16gb\" şeklinde eşleşmesini sağlayacak regex kullanıyoruz.\n",
    "        ram_pattern = rf'\\b{ram}\\s*gb\\b'\n",
    "        df = df[df['preprocessed_str'].str.contains(ram_pattern, flags=re.IGNORECASE, na=False)]\n",
    "    \n",
    "    # Esnek eşleşme: Sorgudaki diğer kelimelerin eşleşme skorunu hesaplayalım.\n",
    "    def keyword_match_score(text):\n",
    "        tokens = text.split()\n",
    "        matches = sum(1 for keyword in keywords if keyword in tokens)\n",
    "        return matches\n",
    "    \n",
    "    df['match_score'] = df['preprocessed_str'].apply(keyword_match_score)\n",
    "    filtered_df = df[df['match_score'] > 0]\n",
    "    \n",
    "    if filtered_df.empty:\n",
    "        return \"Belirttiğiniz kriterlere uygun ürün bulunamadı.\"\n",
    "    \n",
    "    # Her ürün için yorumlardan skor hesaplaması (grup bazında)\n",
    "    scores = filtered_df.groupby('Product Name').apply(compute_laptop_score).reset_index(name='score')\n",
    "    merged_df = filtered_df.merge(scores, on='Product Name')\n",
    "    \n",
    "    # Aynı üründen tekrar edenleri temizleyip skor üzerinden sıralama yapıyoruz.\n",
    "    sorted_df = merged_df.sort_values(by='score', ascending=False).drop_duplicates(subset=['Product Name']).head(top_n)\n",
    "    \n",
    "    # Sonuçları oluşturuyoruz.\n",
    "    response_lines = []\n",
    "    for _, row in sorted_df.iterrows():\n",
    "        line = f\"{row['Product Name']} - Fiyat: {row['Price']} - Link: {row['Link']}\"\n",
    "        response_lines.append(line)\n",
    "    \n",
    "    return \"Önerilen ürünler:\\n\" + \"\\n\".join(response_lines)"
   ]
  },
  {
   "cell_type": "code",
   "execution_count": 30,
   "metadata": {},
   "outputs": [
    {
     "name": "stdout",
     "output_type": "stream",
     "text": [
      "ROBO: Ben LapAdvisor BOT. Size nasıl yardımcı olabilirim? Çıkmak için 'Kapat' yazın.\n"
     ]
    },
    {
     "name": "stdout",
     "output_type": "stream",
     "text": [
      "ROBO: Merhaba, nasıl yardımcı olabilirim?\n"
     ]
    },
    {
     "name": "stderr",
     "output_type": "stream",
     "text": [
      "C:\\Users\\EMREHAN\\AppData\\Local\\Temp\\ipykernel_11836\\249418778.py:66: DeprecationWarning: DataFrameGroupBy.apply operated on the grouping columns. This behavior is deprecated, and in a future version of pandas the grouping columns will be excluded from the operation. Either pass `include_groups=False` to exclude the groupings or explicitly select the grouping columns after groupby to silence this warning.\n",
      "  scores = filtered_df.groupby('Product Name').apply(compute_laptop_score).reset_index(name='score')\n"
     ]
    },
    {
     "name": "stdout",
     "output_type": "stream",
     "text": [
      "ROBO: Önerilen ürünler:\n",
      "Asus TUF Gaming A15 FA507NV-LP023 AMD Ryzen 7 7735HS 16GB 512GB SSD RTX4060 Freedos 15.6\" FHD Taşınabilir Bilgisayar - Fiyat: 57.970 TL - Link: https://www.hepsiburada.com/asus-tuf-gaming-a15-fa507nv-lp023-amd-ryzen-7-7735hs-16gb-512gb-ssd-rtx4060-freedos-15-6-fhd-tasinabilir-bilgisayar-pm-HBC00004BN7CJ\n",
      "Asus TUF Gaming F15 FX507ZC4-HN008 Intel Core i7 12700H 16GB 512GB SSD RTX3050 Freedos 15.6\" FHD 144Hz Taşınabilir Bilgisayar - Fiyat: 44.999 TL - Link: https://www.hepsiburada.com/asus-tuf-gaming-f15-fx507zc4-hn008-intel-core-i7-12700h-16gb-512gb-ssd-rtx3050-freedos-15-6-fhd-144hz-tasinabilir-bilgisayar-pm-HBC00003ZB2YQ\n",
      "Asus Tuf Gaming F15 FX507ZC4-HN009 I7-12700H 16GB Ram 512GB SSD 4gb RTX3050 15.6 Inç Fhd 144Hz Taşınabilir Bilgisayar - Fiyat: 42.999 TL - Link: https://www.hepsiburada.com/asus-tuf-gaming-f15-fx507zc4-hn009-i7-12700h-16gb-ram-512gb-ssd-4gb-rtx3050-15-6-inc-fhd-144hz-tasinabilir-bilgisayar-pm-HBC00003XQWHI\n",
      "Asus Vivobook 15 Intel Core I5 1235U 16GB 512GB SSD Windows 11 Home 15.6\" Fhd Taşınabilir Bilgisayar X1502ZA-EJ030W06 - Fiyat: 21.299 TL - Link: https://www.hepsiburada.com/asus-vivobook-15-intel-core-i5-1235u-16gb-512gb-ssd-windows-11-home-15-6-fhd-tasinabilir-bilgisayar-x1502za-ej030w06-pm-HBC00004PTKQN\n",
      "Asus ROG Strix G16 G614JU-N3110 Intel Core i7 13650HX 16GB 512GB SSD RTX4050 Freedos 16\" 165Hz WUXGA Taşınabilir Bilgisayar - Fiyat: 55.550 TL - Link: https://www.hepsiburada.com/asus-rog-strix-g16-g614ju-n3110-intel-core-i7-13650hx-16gb-512gb-ssd-rtx4050-freedos-16-165hz-wuxga-tasinabilir-bilgisayar-pm-HBC00003X9IPH\n"
     ]
    },
    {
     "name": "stderr",
     "output_type": "stream",
     "text": [
      "C:\\Users\\EMREHAN\\AppData\\Local\\Temp\\ipykernel_11836\\249418778.py:66: DeprecationWarning: DataFrameGroupBy.apply operated on the grouping columns. This behavior is deprecated, and in a future version of pandas the grouping columns will be excluded from the operation. Either pass `include_groups=False` to exclude the groupings or explicitly select the grouping columns after groupby to silence this warning.\n",
      "  scores = filtered_df.groupby('Product Name').apply(compute_laptop_score).reset_index(name='score')\n"
     ]
    },
    {
     "name": "stdout",
     "output_type": "stream",
     "text": [
      "ROBO: Önerilen ürünler:\n",
      "Monster Abra A5 V16.7.3 Intel Core i5-11400H 16GB RAM 500GB SSD 4GB GTX1650 FreeDOS 15.6\" FHD 144Hz Oyun Bilgisayarı - Fiyat: 29.999 TL - Link: https://www.hepsiburada.com/monster-abra-a5-v16-7-3-intel-core-i5-11400h-16gb-ram-500gb-ssd-4gb-gtx1650-freedos-15-6-fhd-144hz-oyun-bilgisayari-pm-HBC00000IIGS8\n",
      "Monster Tulpar T7 V20.7.2 Intel Core i7 12650H 32 GB RAM 1 TB SSD 8 GB RTX 4060 FreeDOS 17,3\" FHD 144 Hz Oyun Bilgisayarı - Fiyat: 61.499 TL - Link: https://www.hepsiburada.com/monster-tulpar-t7-v20-7-2-intel-core-i7-12650h-32-gb-ram-1-tb-ssd-8-gb-rtx-4060-freedos-17-3-fhd-144-hz-oyun-bilgisayari-pm-HBC00004WGDS3\n",
      "Monster Abra A5 V20.3.2 Intel Core i7 13700H 32 GB RAM 1 TB SSD 6 GB RTX 4050 FreeDOS 15,6\" FHD 144 Hz Oyun Bilgisayarı - Fiyat: 46.399 TL - Link: https://www.hepsiburada.com/monster-abra-a5-v20-3-2-intel-core-i7-13700h-32-gb-ram-1-tb-ssd-6-gb-rtx-4050-freedos-15-6-fhd-144-hz-oyun-bilgisayari-pm-HBC00004H2Q90\n",
      "Monster Abra A5 V20.2.2 Intel Core i5 13500H 32 GB RAM 1 TB SSD 6 GB RTX 4050 FreeDOS 15,6\" FHD 144 Hz Oyun Bilgisayarı - Fiyat: 42.499 TL - Link: https://www.hepsiburada.com/monster-abra-a5-v20-2-2-intel-core-i5-13500h-32-gb-ram-1-tb-ssd-6-gb-rtx-4050-freedos-15-6-fhd-144-hz-oyun-bilgisayari-pm-HBC00004GCSBL\n",
      "Acer Nitro 5 AN515-58-544K Dizüstü Oyuncu Bilgisayarı, Intel Core i5-12450H İşlemci, 8 GB RAM, 512 GB SSD, 15.6 inç FHD 144Hz Ekran, NVIDIA GeForce RTX 3050 4 GB Ekran Kartı, FreeDOS, Siyah - Fiyat: 31.208 TL - Link: https://www.amazon.com.tr/Acer-AN515-58-544K-Bilgisayar%C4%B1-i5-12450H-NH-QFJEY-007/dp/B0C85RJPZT/ref=sr_1_136?dib=eyJ2IjoiMSJ9.Xlf-UcHDRhpu0STKojABNcDqhHau3tLMqnrduEyJbDa7_wwlVKFQlXUiWB-8ulqyNF7lcNI8-4z_-8e6mmeJUK3X8S_6GeMLclyLbLGIxnqbrfBOm49k0-DElGytJen6VSTVTSFItQfyibWvY-ccKM3WLqX0tFK4m9OyoyBQTMM5GrcoHoMpA68p0gHcSpmEoyr2eclvEvyrlYWI3RtwwAn4wYAJMSVdHfR1psFp5HEtfKIGPOakgIQLh52pFnZT7yCaBX9MMTx-A-GyT-1LtOsUTtuqBOj0sUKBMJSEX_9bWoaNnsD_zu9IJYoOr65pH2xR1XiP35-5GzMykEUKEIqVRMGcRyrgyokWAn80B5U.A1ZDnB1YZR8S1_mtejTOGMpz4DhUBSQsaj4hFm9JtJ0&dib_tag=se&qid=1738968017&s=computers&sr=1-136\n"
     ]
    },
    {
     "name": "stderr",
     "output_type": "stream",
     "text": [
      "C:\\Users\\EMREHAN\\AppData\\Local\\Temp\\ipykernel_11836\\249418778.py:66: DeprecationWarning: DataFrameGroupBy.apply operated on the grouping columns. This behavior is deprecated, and in a future version of pandas the grouping columns will be excluded from the operation. Either pass `include_groups=False` to exclude the groupings or explicitly select the grouping columns after groupby to silence this warning.\n",
      "  scores = filtered_df.groupby('Product Name').apply(compute_laptop_score).reset_index(name='score')\n"
     ]
    },
    {
     "name": "stdout",
     "output_type": "stream",
     "text": [
      "ROBO: Önerilen ürünler:\n",
      "HP Victus 16-S0053NT Ryzen 7-7840HS 16GB 1tb SSD 6gb Rtx 4050 144Hz 16.1\"fdos Laptop 892Q1EA - Fiyat: 38.999 TL - Link: https://www.hepsiburada.com/hp-victus-16-s0053nt-ryzen-7-7840hs-16gb-1tb-ssd-6gb-rtx-4050-144hz-16-1-fdos-laptop-892q1ea-pm-HBC00004JN1H1\n",
      "Asus TUF Gaming FX506HC-HN011 Intel Core i5 11400H 8GB 512GB SSD RTX3050 Freedos 15.6\" Taşınabilir Bilgisayar - Fiyat: 36.999 TL - Link: https://www.hepsiburada.com/asus-tuf-gaming-fx506hc-hn011-intel-core-i5-11400h-8gb-512gb-ssd-rtx3050-freedos-15-6-tasinabilir-bilgisayar-pm-HBC000008SRHL\n",
      "Apple M2 çipli MacBook Air laptop 13.6 inç Liquid Retina ekran, 16GB RAM, 256 GB SSD depolama, arkadan aydınlatmalı klavye, 1080p FaceTime HD kamera. iPhone ve iPad ile uyumlu; Gece Yarısı - Fiyat: 40.399 TL - Link: https://www.amazon.com.tr/Apple-MacBook-depolama-ayd%C4%B1nlatmal%C4%B1-FaceTime/dp/B0DLHMLFZL/ref=sr_1_8?dib=eyJ2IjoiMSJ9.cAStGyXY4Ttlop_Td9PZXiT8XUwEgMm5EFh6-h95Y1hWj9uUUBoaD8md3A4UjnjuIagUE3vJx3KnUi-JvH8cKk0HTEGAX8kO0Bhtc8QUjYa2l6_zy0ln6kP2qI_6Kxoh-nDmgMQKQl-tP6Q3U9i6Xdo8nrDd85-9hZEJrFyfJIHDVKHvBuVDoc8__xz73XZ515r2uBFMSt5cRM1v22ysRKWFcdViGJQCj0yZA6WUJqAwlS7Qbx81kqBIQYsncmEogGLZXwAk8vb032RdTv_eCvYz9uDT9D7To-w7UHkP2VrMV276jD3bNLuT6iBIwgFyMQ8yLp_hU-b_xy0aYApkCHejwbw8mlO-w_2rrCVVzck.Oyo7D-r7aZUqHTPMtdljGI-kKT6WVuVoCeztVUvTInw&dib_tag=se&qid=1738967976&s=computers&sr=1-8\n",
      "ASUS Tuf Gaming F15 - Fiyat: 35.999 TL - Link: https://www.trendyol.com/asus/tuf-gaming-f15-fx506hc-hn373-i5-11400h-8gb-ram-512gb-ssd-4gb-rtx3050-15-6-inc-fhd-144hz-bilgisayar-p-411886051?boutiqueId=61&merchantId=954456\n",
      "HP Victus Gaming 15-FA1033NT Intel Core i5 13500H 16GB 512GB SSD RTX4050 Freedos 15.6\" FHD Taşınabilir Bilgisayar 7N9V2EA - Fiyat: 38.024 TL - Link: https://www.hepsiburada.com/hp-victus-gaming-15-fa1033nt-intel-core-i5-13500h-16gb-512gb-ssd-rtx4050-freedos-15-6-fhd-tasinabilir-bilgisayar-7n9v2ea-pm-HBC000048JZ3N\n"
     ]
    },
    {
     "name": "stderr",
     "output_type": "stream",
     "text": [
      "C:\\Users\\EMREHAN\\AppData\\Local\\Temp\\ipykernel_11836\\249418778.py:66: DeprecationWarning: DataFrameGroupBy.apply operated on the grouping columns. This behavior is deprecated, and in a future version of pandas the grouping columns will be excluded from the operation. Either pass `include_groups=False` to exclude the groupings or explicitly select the grouping columns after groupby to silence this warning.\n",
      "  scores = filtered_df.groupby('Product Name').apply(compute_laptop_score).reset_index(name='score')\n"
     ]
    },
    {
     "name": "stdout",
     "output_type": "stream",
     "text": [
      "ROBO: Önerilen ürünler:\n",
      "HP 15-FC0003NT AMD Ryzen 3 7320U 8GB 256GB SSD Freedos 15.6\" FHD Taşınabilir Bilgisayar 7P6E7EA - Fiyat: 12.499 TL - Link: https://www.hepsiburada.com/hp-15-fc0003nt-amd-ryzen-3-7320u-8gb-256gb-ssd-freedos-15-6-fhd-tasinabilir-bilgisayar-7p6e7ea-pm-HBC00003UU0I9\n",
      "HP 255 G9 AMD Ryzen 5 5625U 8GB 512GB SSD Freedos 15.6\" FHD Taşınabilir Bilgisayar 9M3G7AT - Fiyat: 12.499 TL - Link: https://www.hepsiburada.com/hp-255-g9-amd-ryzen-5-5625u-8gb-512gb-ssd-freedos-15-6-fhd-tasinabilir-bilgisayar-9m3g7at-pm-HBC0000658JZN\n",
      "HP Victus 16-R0020NT 13. Nesil Intel I7-13700H 16GB Ram 1tb SSD 8gb RTX4060 16.1\" Fhd 144Hz Taşınabilir Bilgisayar 7P637EA - Fiyat: 52.747 TL - Link: https://www.hepsiburada.com/hp-victus-16-r0020nt-13-nesil-intel-i7-13700h-16gb-ram-1tb-ssd-8gb-rtx4060-16-1-fhd-144hz-tasinabilir-bilgisayar-7p637ea-pm-HBC00004G4KY5\n",
      "HP 15-DB1049NT AMD Ryzen 5 3500U 8GB 256GB SSD FreeDOS 15.6\" FHD Taşınabilir Bilgisayar 7DW53EA - Fiyat: 49.895 TL - Link: https://www.hepsiburada.com/hp-15-db1049nt-amd-ryzen-5-3500u-8gb-256gb-ssd-freedos-15-6-fhd-tasinabilir-bilgisayar-7dw53ea-pm-HB00000X5TSQ\n",
      "HP 15-DW3014NT Intel Core i3 1115G4 8GB 256GB SSD 15.6\" Windows 10 Home Taşınabilir Bilgisayar 2Y9S8EA - Fiyat: 65.907 TL - Link: https://www.hepsiburada.com/hp-15-dw3014nt-intel-core-i3-1115g4-8gb-256gb-ssd-15-6-windows-10-home-tasinabilir-bilgisayar-2y9s8ea-pm-HBC000005TNGM\n"
     ]
    },
    {
     "name": "stderr",
     "output_type": "stream",
     "text": [
      "C:\\Users\\EMREHAN\\AppData\\Local\\Temp\\ipykernel_11836\\249418778.py:59: SettingWithCopyWarning: \n",
      "A value is trying to be set on a copy of a slice from a DataFrame.\n",
      "Try using .loc[row_indexer,col_indexer] = value instead\n",
      "\n",
      "See the caveats in the documentation: https://pandas.pydata.org/pandas-docs/stable/user_guide/indexing.html#returning-a-view-versus-a-copy\n",
      "  df['match_score'] = df['preprocessed_str'].apply(keyword_match_score)\n",
      "C:\\Users\\EMREHAN\\AppData\\Local\\Temp\\ipykernel_11836\\249418778.py:66: DeprecationWarning: DataFrameGroupBy.apply operated on the grouping columns. This behavior is deprecated, and in a future version of pandas the grouping columns will be excluded from the operation. Either pass `include_groups=False` to exclude the groupings or explicitly select the grouping columns after groupby to silence this warning.\n",
      "  scores = filtered_df.groupby('Product Name').apply(compute_laptop_score).reset_index(name='score')\n"
     ]
    },
    {
     "name": "stdout",
     "output_type": "stream",
     "text": [
      "ROBO: Önerilen ürünler:\n",
      "Lenovo IdeaPad Slim 3 15IAH8 Intel Core i5 12450H 8GB 512GB SSD Freedos 15.6\" FHD Taşınabilir Bilgisayar 83ER000WTR - Fiyat: 15.799 TL - Link: https://www.hepsiburada.com/lenovo-ideapad-slim-3-15iah8-intel-core-i5-12450h-8gb-512gb-ssd-freedos-15-6-fhd-tasinabilir-bilgisayar-83er000wtr-pm-HBC000059XX67\n",
      "Lenovo 82C2006BTX Intel Celeron N4120 4GB Ram 256GB SSD 14\" Freedos Taşınabilir Bilgisayar - Fiyat: 14.299 TL - Link: https://www.hepsiburada.com/lenovo-82c2006btx-intel-celeron-n4120-4gb-ram-256gb-ssd-14-freedos-tasinabilir-bilgisayar-pm-HBC00001ZL25V\n",
      "Lenovo LOQ 15IAX9I Intel Core i5 12450HX 16GB 512GB SSD Arc A530M Freedos 15.6\" FHD Taşınabilir Bilgisayar 83FQ000UTR - Fiyat: 25.999 TL - Link: https://www.hepsiburada.com/lenovo-loq-15iax9i-intel-core-i5-12450hx-16gb-512gb-ssd-arc-a530m-freedos-15-6-fhd-tasinabilir-bilgisayar-83fq000utr-pm-HBC00005P6NCY\n",
      "Lenovo V15 G2 Intel Core i5 1135G7 8GB RAM 256GB SSD Windows 10 Home 15.6\" FHD Taşınabilir Bilgisayar 82KB000RTX - Fiyat: 19.499 TL - Link: https://www.hepsiburada.com/lenovo-v15-g2-intel-core-i5-1135g7-8gb-ram-256gb-ssd-windows-10-home-15-6-fhd-tasinabilir-bilgisayar-82kb000rtx-pm-HBC00000YOLKJ\n",
      "Lenovo LOQ Intel Core i5 12450HX 24GB 512GB SSD RTX3050 Freedos 15.6\" FHD Taşınabilir Bilgisayar 83GS0099TR - Fiyat: 31.999 TL - Link: https://www.hepsiburada.com/lenovo-loq-intel-core-i5-12450hx-24gb-512gb-ssd-rtx3050-freedos-15-6-fhd-tasinabilir-bilgisayar-83gs0099tr-pm-HBC00006NBQC8\n"
     ]
    },
    {
     "name": "stderr",
     "output_type": "stream",
     "text": [
      "C:\\Users\\EMREHAN\\AppData\\Local\\Temp\\ipykernel_11836\\249418778.py:59: SettingWithCopyWarning: \n",
      "A value is trying to be set on a copy of a slice from a DataFrame.\n",
      "Try using .loc[row_indexer,col_indexer] = value instead\n",
      "\n",
      "See the caveats in the documentation: https://pandas.pydata.org/pandas-docs/stable/user_guide/indexing.html#returning-a-view-versus-a-copy\n",
      "  df['match_score'] = df['preprocessed_str'].apply(keyword_match_score)\n",
      "C:\\Users\\EMREHAN\\AppData\\Local\\Temp\\ipykernel_11836\\249418778.py:66: DeprecationWarning: DataFrameGroupBy.apply operated on the grouping columns. This behavior is deprecated, and in a future version of pandas the grouping columns will be excluded from the operation. Either pass `include_groups=False` to exclude the groupings or explicitly select the grouping columns after groupby to silence this warning.\n",
      "  scores = filtered_df.groupby('Product Name').apply(compute_laptop_score).reset_index(name='score')\n"
     ]
    },
    {
     "name": "stdout",
     "output_type": "stream",
     "text": [
      "ROBO: Önerilen ürünler:\n",
      "HP Victus 16-S0053NT Ryzen 7-7840HS 16GB 1tb SSD 6gb Rtx 4050 144Hz 16.1\"fdos Laptop 892Q1EA - Fiyat: 38.999 TL - Link: https://www.hepsiburada.com/hp-victus-16-s0053nt-ryzen-7-7840hs-16gb-1tb-ssd-6gb-rtx-4050-144hz-16-1-fdos-laptop-892q1ea-pm-HBC00004JN1H1\n",
      "Monster Abra A5 V16.7.3 Intel Core i5-11400H 16GB RAM 500GB SSD 4GB GTX1650 FreeDOS 15.6\" FHD 144Hz Oyun Bilgisayarı - Fiyat: 29.999 TL - Link: https://www.hepsiburada.com/monster-abra-a5-v16-7-3-intel-core-i5-11400h-16gb-ram-500gb-ssd-4gb-gtx1650-freedos-15-6-fhd-144hz-oyun-bilgisayari-pm-HBC00000IIGS8\n",
      "Apple M2 çipli MacBook Air laptop 13.6 inç Liquid Retina ekran, 16GB RAM, 256 GB SSD depolama, arkadan aydınlatmalı klavye, 1080p FaceTime HD kamera. iPhone ve iPad ile uyumlu; Gece Yarısı - Fiyat: 40.399 TL - Link: https://www.amazon.com.tr/Apple-MacBook-depolama-ayd%C4%B1nlatmal%C4%B1-FaceTime/dp/B0DLHMLFZL/ref=sr_1_8?dib=eyJ2IjoiMSJ9.cAStGyXY4Ttlop_Td9PZXiT8XUwEgMm5EFh6-h95Y1hWj9uUUBoaD8md3A4UjnjuIagUE3vJx3KnUi-JvH8cKk0HTEGAX8kO0Bhtc8QUjYa2l6_zy0ln6kP2qI_6Kxoh-nDmgMQKQl-tP6Q3U9i6Xdo8nrDd85-9hZEJrFyfJIHDVKHvBuVDoc8__xz73XZ515r2uBFMSt5cRM1v22ysRKWFcdViGJQCj0yZA6WUJqAwlS7Qbx81kqBIQYsncmEogGLZXwAk8vb032RdTv_eCvYz9uDT9D7To-w7UHkP2VrMV276jD3bNLuT6iBIwgFyMQ8yLp_hU-b_xy0aYApkCHejwbw8mlO-w_2rrCVVzck.Oyo7D-r7aZUqHTPMtdljGI-kKT6WVuVoCeztVUvTInw&dib_tag=se&qid=1738967976&s=computers&sr=1-8\n",
      "Dell Gaming G15 5530 G155530014U Intel Core i7-13650HX 16GB DDR5 1TB SSD RTX4060 8GB 140W 15.6 inç Full HD Ubuntu Gaming Laptop - Fiyat: 45.999 TL - Link: https://www.hepsiburada.com/dell-gaming-g15-5530-g155530014u-intel-core-i7-13650hx-16gb-ddr5-1tb-ssd-rtx4060-8gb-140w-15-6-inc-full-hd-ubuntu-gaming-laptop-pm-HBC00004QGN8P\n",
      "HP Victus Gaming Laptop 16-S0018NT Amd Ryzen 5 7640HS 16 GB 1 Tb SSD Rtx 4060 Freedos 16.1\" Fhd 144 Hz Taşınabilir Bilgisayar 7Z4M8EA - Fiyat: 43.599 TL - Link: https://www.hepsiburada.com/hp-victus-gaming-laptop-16-s0018nt-amd-ryzen-5-7640hs-16-gb-1-tb-ssd-rtx-4060-freedos-16-1-fhd-144-hz-tasinabilir-bilgisayar-7z4m8ea-pm-HBC00004IVOZY\n"
     ]
    },
    {
     "name": "stderr",
     "output_type": "stream",
     "text": [
      "C:\\Users\\EMREHAN\\AppData\\Local\\Temp\\ipykernel_11836\\249418778.py:59: SettingWithCopyWarning: \n",
      "A value is trying to be set on a copy of a slice from a DataFrame.\n",
      "Try using .loc[row_indexer,col_indexer] = value instead\n",
      "\n",
      "See the caveats in the documentation: https://pandas.pydata.org/pandas-docs/stable/user_guide/indexing.html#returning-a-view-versus-a-copy\n",
      "  df['match_score'] = df['preprocessed_str'].apply(keyword_match_score)\n",
      "C:\\Users\\EMREHAN\\AppData\\Local\\Temp\\ipykernel_11836\\249418778.py:66: DeprecationWarning: DataFrameGroupBy.apply operated on the grouping columns. This behavior is deprecated, and in a future version of pandas the grouping columns will be excluded from the operation. Either pass `include_groups=False` to exclude the groupings or explicitly select the grouping columns after groupby to silence this warning.\n",
      "  scores = filtered_df.groupby('Product Name').apply(compute_laptop_score).reset_index(name='score')\n"
     ]
    },
    {
     "name": "stdout",
     "output_type": "stream",
     "text": [
      "ROBO: Önerilen ürünler:\n",
      "Monster Abra A5 V16.7.3 Intel Core i5-11400H 16GB RAM 500GB SSD 4GB GTX1650 FreeDOS 15.6\" FHD 144Hz Oyun Bilgisayarı - Fiyat: 29.999 TL - Link: https://www.hepsiburada.com/monster-abra-a5-v16-7-3-intel-core-i5-11400h-16gb-ram-500gb-ssd-4gb-gtx1650-freedos-15-6-fhd-144hz-oyun-bilgisayari-pm-HBC00000IIGS8\n",
      "Monster Tulpar T7 V20.7.2 Intel Core i7 12650H 32 GB RAM 1 TB SSD 8 GB RTX 4060 FreeDOS 17,3\" FHD 144 Hz Oyun Bilgisayarı - Fiyat: 61.499 TL - Link: https://www.hepsiburada.com/monster-tulpar-t7-v20-7-2-intel-core-i7-12650h-32-gb-ram-1-tb-ssd-8-gb-rtx-4060-freedos-17-3-fhd-144-hz-oyun-bilgisayari-pm-HBC00004WGDS3\n",
      "Monster Abra A5 V20.3.2 Intel Core i7 13700H 32 GB RAM 1 TB SSD 6 GB RTX 4050 FreeDOS 15,6\" FHD 144 Hz Oyun Bilgisayarı - Fiyat: 46.399 TL - Link: https://www.hepsiburada.com/monster-abra-a5-v20-3-2-intel-core-i7-13700h-32-gb-ram-1-tb-ssd-6-gb-rtx-4050-freedos-15-6-fhd-144-hz-oyun-bilgisayari-pm-HBC00004H2Q90\n",
      "Monster Abra A5 V20.2.2 Intel Core i5 13500H 32 GB RAM 1 TB SSD 6 GB RTX 4050 FreeDOS 15,6\" FHD 144 Hz Oyun Bilgisayarı - Fiyat: 42.499 TL - Link: https://www.hepsiburada.com/monster-abra-a5-v20-2-2-intel-core-i5-13500h-32-gb-ram-1-tb-ssd-6-gb-rtx-4050-freedos-15-6-fhd-144-hz-oyun-bilgisayari-pm-HBC00004GCSBL\n",
      "MONSTER Tulpar T5 V23.3.2 - Fiyat: 49.999 TL - Link: https://www.trendyol.com/monster/tulpar-t5-v23-3-2-intel-core-i5-12450h-32-gb-ram-1-tb-ssd-8-gb-rtx-4060-freedos-15-6-fhd-144-hz-p-762942774?boutiqueId=61&merchantId=203702\n"
     ]
    },
    {
     "name": "stderr",
     "output_type": "stream",
     "text": [
      "C:\\Users\\EMREHAN\\AppData\\Local\\Temp\\ipykernel_11836\\249418778.py:59: SettingWithCopyWarning: \n",
      "A value is trying to be set on a copy of a slice from a DataFrame.\n",
      "Try using .loc[row_indexer,col_indexer] = value instead\n",
      "\n",
      "See the caveats in the documentation: https://pandas.pydata.org/pandas-docs/stable/user_guide/indexing.html#returning-a-view-versus-a-copy\n",
      "  df['match_score'] = df['preprocessed_str'].apply(keyword_match_score)\n",
      "C:\\Users\\EMREHAN\\AppData\\Local\\Temp\\ipykernel_11836\\249418778.py:66: DeprecationWarning: DataFrameGroupBy.apply operated on the grouping columns. This behavior is deprecated, and in a future version of pandas the grouping columns will be excluded from the operation. Either pass `include_groups=False` to exclude the groupings or explicitly select the grouping columns after groupby to silence this warning.\n",
      "  scores = filtered_df.groupby('Product Name').apply(compute_laptop_score).reset_index(name='score')\n"
     ]
    },
    {
     "name": "stdout",
     "output_type": "stream",
     "text": [
      "ROBO: Önerilen ürünler:\n",
      "ASUS Vivobook 15 Intel Core - Fiyat: 16.199 TL - Link: https://www.trendyol.com/asus/vivobook-15-intel-core-i5-1235u-8gb-512gb-ssd-dos-15-6-fhd-gumus-dizustu-bilgisayar-f1502za-ej1534-p-780222579?boutiqueId=61&merchantId=113801\n",
      "Asus TUF Gaming FX506HC-HN011 Intel Core i5 11400H 8GB 512GB SSD RTX3050 Freedos 15.6\" Taşınabilir Bilgisayar - Fiyat: 36.999 TL - Link: https://www.hepsiburada.com/asus-tuf-gaming-fx506hc-hn011-intel-core-i5-11400h-8gb-512gb-ssd-rtx3050-freedos-15-6-tasinabilir-bilgisayar-pm-HBC000008SRHL\n",
      "ASUS Tuf Gaming F15 - Fiyat: 50.999 TL - Link: https://www.trendyol.com/asus/tuf-gaming-f15-fx507vu-lp261-intel-i7-13620h-16gb-512gb-ssd-rtx4050-140watt-144hz-dos-15-6-fhd-p-807534599?boutiqueId=61&merchantId=954456\n",
      "Asus TUF Gaming F15 FX506HF-HN014 Intel Core i5 11400H 8GB 512GB SSD RTX2050 Freedos 15.6\" FHD 144Hz Taşınabilir Bilgisayar - Fiyat: 34.828 TL - Link: https://www.hepsiburada.com/asus-tuf-gaming-f15-fx506hf-hn014-intel-core-i5-11400h-8gb-512gb-ssd-rtx2050-freedos-15-6-fhd-144hz-tasinabilir-bilgisayar-pm-HBC00003XD663\n",
      "Asus X515JA-EJ2137 Intel Core i3 1005G1 4GB 256GB SSD Freedos 15.6\" Taşınabilir Bilgisayar - Fiyat: 11.500 TL - Link: https://www.hepsiburada.com/asus-x515ja-ej2137-intel-core-i3-1005g1-4gb-256gb-ssd-freedos-15-6-tasinabilir-bilgisayar-pm-HBC00000H2DTV\n"
     ]
    },
    {
     "name": "stderr",
     "output_type": "stream",
     "text": [
      "C:\\Users\\EMREHAN\\AppData\\Local\\Temp\\ipykernel_11836\\249418778.py:59: SettingWithCopyWarning: \n",
      "A value is trying to be set on a copy of a slice from a DataFrame.\n",
      "Try using .loc[row_indexer,col_indexer] = value instead\n",
      "\n",
      "See the caveats in the documentation: https://pandas.pydata.org/pandas-docs/stable/user_guide/indexing.html#returning-a-view-versus-a-copy\n",
      "  df['match_score'] = df['preprocessed_str'].apply(keyword_match_score)\n",
      "C:\\Users\\EMREHAN\\AppData\\Local\\Temp\\ipykernel_11836\\249418778.py:66: DeprecationWarning: DataFrameGroupBy.apply operated on the grouping columns. This behavior is deprecated, and in a future version of pandas the grouping columns will be excluded from the operation. Either pass `include_groups=False` to exclude the groupings or explicitly select the grouping columns after groupby to silence this warning.\n",
      "  scores = filtered_df.groupby('Product Name').apply(compute_laptop_score).reset_index(name='score')\n"
     ]
    },
    {
     "name": "stdout",
     "output_type": "stream",
     "text": [
      "ROBO: Önerilen ürünler:\n",
      "HP Victus 16-S0001NT R7 7840HS 32GB 1tb SSD RTX4070-8GB Freedos 16.1\" 240 Hz Qhd Notebook 7Z4L9EA - Fiyat: 58.999 TL - Link: https://www.hepsiburada.com/hp-victus-16-s0001nt-r7-7840hs-32gb-1tb-ssd-rtx4070-8gb-freedos-16-1-240-hz-qhd-notebook-7z4l9ea-pm-HBC00004KGS1J\n",
      "MSI KATANA 17 B13VFK-872XTR Intel Core i7 13620H 32GB 1TB SSD RTX4060 Freedos 17.3\" FHD 144Hz Taşınabilir Bilgisayar - Fiyat: 62.999 TL - Link: https://www.hepsiburada.com/msi-katana-17-b13vfk-872xtr-intel-core-i7-13620h-32gb-1tb-ssd-rtx4060-freedos-17-3-fhd-144hz-tasinabilir-bilgisayar-pm-HBC000052Q0UM\n",
      "HP Victus 16-R1032NT 9J234EA 8gb RTX4060 14. Nesil Intel I7-14700HX 32GB Ram 1tb SSD 16.1 Inç Fhd 144Hz Taşınabilir Bilgisayar - Fiyat: 54.498 TL - Link: https://www.hepsiburada.com/hp-victus-16-r1032nt-9j234ea-8gb-rtx4060-14-nesil-intel-i7-14700hx-32gb-ram-1tb-ssd-16-1-inc-fhd-144hz-tasinabilir-bilgisayar-pm-HBC00005OSLJL\n",
      "Dell G16 7630 I9-13900HX 32GB 1tb SSD 8gb RTX4070 16 Qhd+ 240Hz Ubuntu G76302401024U - Fiyat: 73.999 TL - Link: https://www.hepsiburada.com/dell-g16-7630-i9-13900hx-32gb-1tb-ssd-8gb-rtx4070-16-qhd-240hz-ubuntu-g76302401024u-pm-HBC00004XPQX7\n",
      "MSI KATANA 17 B12VGK-401XTR Intel Core i7 12650H 32GB 1TB SSD RTX4070 Freedos 17.3\" FHD 144Hz Taşınabilir Bilgisayar - Fiyat: 89.999 TL - Link: https://www.hepsiburada.com/msi-katana-17-b12vgk-401xtr-intel-core-i7-12650h-32gb-1tb-ssd-rtx4070-freedos-17-3-fhd-144hz-tasinabilir-bilgisayar-pm-HBC00003WW1FQ\n"
     ]
    },
    {
     "name": "stderr",
     "output_type": "stream",
     "text": [
      "C:\\Users\\EMREHAN\\AppData\\Local\\Temp\\ipykernel_11836\\249418778.py:59: SettingWithCopyWarning: \n",
      "A value is trying to be set on a copy of a slice from a DataFrame.\n",
      "Try using .loc[row_indexer,col_indexer] = value instead\n",
      "\n",
      "See the caveats in the documentation: https://pandas.pydata.org/pandas-docs/stable/user_guide/indexing.html#returning-a-view-versus-a-copy\n",
      "  df['match_score'] = df['preprocessed_str'].apply(keyword_match_score)\n",
      "C:\\Users\\EMREHAN\\AppData\\Local\\Temp\\ipykernel_11836\\249418778.py:66: DeprecationWarning: DataFrameGroupBy.apply operated on the grouping columns. This behavior is deprecated, and in a future version of pandas the grouping columns will be excluded from the operation. Either pass `include_groups=False` to exclude the groupings or explicitly select the grouping columns after groupby to silence this warning.\n",
      "  scores = filtered_df.groupby('Product Name').apply(compute_laptop_score).reset_index(name='score')\n"
     ]
    },
    {
     "name": "stdout",
     "output_type": "stream",
     "text": [
      "ROBO: Önerilen ürünler:\n",
      "Dell Gaming G15 5530 G155530014U Intel Core i7-13650HX 16GB DDR5 1TB SSD RTX4060 8GB 140W 15.6 inç Full HD Ubuntu Gaming Laptop - Fiyat: 45.999 TL - Link: https://www.hepsiburada.com/dell-gaming-g15-5530-g155530014u-intel-core-i7-13650hx-16gb-ddr5-1tb-ssd-rtx4060-8gb-140w-15-6-inc-full-hd-ubuntu-gaming-laptop-pm-HBC00004QGN8P\n",
      "Dell Inspiron 3511 Intel Core i5 1135G7 8GB 512GB SSD Ubuntu 15.6\" FHD Taşınabilir Bilgisayar - Fiyat: 16.499 TL - Link: https://www.hepsiburada.com/dell-inspiron-3511-intel-core-i5-1135g7-8gb-512gb-ssd-ubuntu-15-6-fhd-tasinabilir-bilgisayar-pm-HBC00002Y5WG9\n",
      "Dell Vostro 3500 Intel Core i3 1115G4 4GB 256GB SSD Linux 15.6'' FHD Taşınabilir Bilgisayar 3500-FB15F42N - Fiyat: 13.499 TL - Link: https://www.hepsiburada.com/dell-vostro-3500-intel-core-i3-1115g4-4gb-256gb-ssd-linux-15-6-fhd-tasinabilir-bilgisayar-3500-fb15f42n-pm-HBC0000033GI9\n",
      "Dell Inspiron 3520 Intel Core - Fiyat: 17.299 TL - Link: https://www.trendyol.com/dell/inspiron-3520-intel-core-i5-1235u-16-gb-512-gbssd-windows-11-home-15-6-fhd-120hz-3520ar17-p-791970559?boutiqueId=61&merchantId=153128\n",
      "Dell G16 7630 I9-13900HX 32GB 1tb SSD 8gb RTX4070 16 Qhd+ 240Hz Ubuntu G76302401024U - Fiyat: 73.999 TL - Link: https://www.hepsiburada.com/dell-g16-7630-i9-13900hx-32gb-1tb-ssd-8gb-rtx4070-16-qhd-240hz-ubuntu-g76302401024u-pm-HBC00004XPQX7\n"
     ]
    },
    {
     "name": "stderr",
     "output_type": "stream",
     "text": [
      "C:\\Users\\EMREHAN\\AppData\\Local\\Temp\\ipykernel_11836\\249418778.py:66: DeprecationWarning: DataFrameGroupBy.apply operated on the grouping columns. This behavior is deprecated, and in a future version of pandas the grouping columns will be excluded from the operation. Either pass `include_groups=False` to exclude the groupings or explicitly select the grouping columns after groupby to silence this warning.\n",
      "  scores = filtered_df.groupby('Product Name').apply(compute_laptop_score).reset_index(name='score')\n"
     ]
    },
    {
     "name": "stdout",
     "output_type": "stream",
     "text": [
      "ROBO: Önerilen ürünler:\n",
      "MSI GF63 Thin 11UD-428XTR Intel Core i7 11800H 16GB 512GB SSD RTX3050Ti Freedos 15.6'' Taşınabilir Bilgisayar - Fiyat: 39.499 TL - Link: https://www.hepsiburada.com/msi-gf63-thin-11ud-428xtr-intel-core-i7-11800h-16gb-512gb-ssd-rtx3050ti-freedos-15-6-tasinabilir-bilgisayar-pm-HBC000015VD3O\n",
      "MSI CYBORG 15 A13VF-896XTR Intel Core i5 13420H 16GB 512GB SSD RTX4060 Freedos 15.6\" FHD 144Hz Taşınabilir Bilgisayar - Fiyat: 37.999 TL - Link: https://www.hepsiburada.com/msi-cyborg-15-a13vf-896xtr-intel-core-i5-13420h-16gb-512gb-ssd-rtx4060-freedos-15-6-fhd-144hz-tasinabilir-bilgisayar-pm-HBC00005T8761\n",
      "MSI CYBORG 15 A13VF-892XTR Intel Core i7 13620H 16GB 512GB SSD RTX4060 Freedos 15.6\" FHD 144Hz Taşınabilir Bilgisayar - Fiyat: 44.499 TL - Link: https://www.hepsiburada.com/msi-cyborg-15-a13vf-892xtr-intel-core-i7-13620h-16gb-512gb-ssd-rtx4060-freedos-15-6-fhd-144hz-tasinabilir-bilgisayar-pm-HBC00005T87HS\n",
      "MSI THIN 15 B12UC-1478XTR Intel Core i5 12450H 16GB 512GB SSD RTX3050 Freedos 15.6\" FHD 144Hz Taşınabilir Bilgisayar - Fiyat: 30.530 TL - Link: https://www.hepsiburada.com/msi-thin-15-b12uc-1478xtr-intel-core-i5-12450h-16gb-512gb-ssd-rtx3050-freedos-15-6-fhd-144hz-tasinabilir-bilgisayar-pm-HBC0000658TRC\n",
      "MSI KATANA 15 B13VGK-1874XTR Intel Core i7 13620H 16GB 1TB SSD RTX4070 Freedos 15.6\" FHD 144Hz Taşınabilir Bilgisayar - Fiyat: 59.999 TL - Link: https://www.hepsiburada.com/msi-katana-15-b13vgk-1874xtr-intel-core-i7-13620h-16gb-1tb-ssd-rtx4070-freedos-15-6-fhd-144hz-tasinabilir-bilgisayar-pm-HBC000065904U\n"
     ]
    },
    {
     "name": "stderr",
     "output_type": "stream",
     "text": [
      "C:\\Users\\EMREHAN\\AppData\\Local\\Temp\\ipykernel_11836\\249418778.py:66: DeprecationWarning: DataFrameGroupBy.apply operated on the grouping columns. This behavior is deprecated, and in a future version of pandas the grouping columns will be excluded from the operation. Either pass `include_groups=False` to exclude the groupings or explicitly select the grouping columns after groupby to silence this warning.\n",
      "  scores = filtered_df.groupby('Product Name').apply(compute_laptop_score).reset_index(name='score')\n"
     ]
    },
    {
     "name": "stdout",
     "output_type": "stream",
     "text": [
      "ROBO: Önerilen ürünler:\n",
      "Lenovo IdeaPad Slim 3 15IAH8 Intel Core i5 12450H 8GB 512GB SSD Freedos 15.6\" FHD Taşınabilir Bilgisayar 83ER000WTR - Fiyat: 15.799 TL - Link: https://www.hepsiburada.com/lenovo-ideapad-slim-3-15iah8-intel-core-i5-12450h-8gb-512gb-ssd-freedos-15-6-fhd-tasinabilir-bilgisayar-83er000wtr-pm-HBC000059XX67\n",
      "Lenovo V15 G2 Intel Core i5 1135G7 8GB RAM 256GB SSD Windows 10 Home 15.6\" FHD Taşınabilir Bilgisayar 82KB000RTX - Fiyat: 19.499 TL - Link: https://www.hepsiburada.com/lenovo-v15-g2-intel-core-i5-1135g7-8gb-ram-256gb-ssd-windows-10-home-15-6-fhd-tasinabilir-bilgisayar-82kb000rtx-pm-HBC00000YOLKJ\n",
      "Lenovo IdeaPad Gaming 3 Intel Core i5 10300H 8GB 512GB SSD GTX1650Ti Freedos 15.6\" FHD Taşınabilir Bilgisayar 81Y400XSTX - Fiyat: 44.062 TL - Link: https://www.hepsiburada.com/lenovo-ideapad-gaming-3-intel-core-i5-10300h-8gb-512gb-ssd-gtx1650ti-freedos-15-6-fhd-tasinabilir-bilgisayar-81y400xstx-pm-HBC00000BDM1L\n",
      "Lenovo IdeaPad 3 15IAU7 Intel Core i3 1215U 8GB 512GB SSD Freedos 15.6\" FHD Taşınabilir Bilgisayar 82RK00XATX - Fiyat: 12.699 TL - Link: https://www.hepsiburada.com/lenovo-ideapad-3-15iau7-intel-core-i3-1215u-8gb-512gb-ssd-freedos-15-6-fhd-tasinabilir-bilgisayar-82rk00xatx-pm-HBC000059XX6B\n",
      "Lenovo IdeaPad Gaming 3 15IHU6 Intel Core i5 11300H 8GB 256GB SSD 1TB HDD RTX 3050 Freedos 15.6\" FHD Taşınabilir Bilgisayar 82K100CWTX - Fiyat: 35.713 TL - Link: https://www.hepsiburada.com/lenovo-ideapad-gaming-3-15ihu6-intel-core-i5-11300h-8gb-256gb-ssd-1tb-hdd-rtx-3050-freedos-15-6-fhd-tasinabilir-bilgisayar-82k100cwtx-pm-HBC00001VDMEC\n"
     ]
    },
    {
     "name": "stderr",
     "output_type": "stream",
     "text": [
      "C:\\Users\\EMREHAN\\AppData\\Local\\Temp\\ipykernel_11836\\249418778.py:59: SettingWithCopyWarning: \n",
      "A value is trying to be set on a copy of a slice from a DataFrame.\n",
      "Try using .loc[row_indexer,col_indexer] = value instead\n",
      "\n",
      "See the caveats in the documentation: https://pandas.pydata.org/pandas-docs/stable/user_guide/indexing.html#returning-a-view-versus-a-copy\n",
      "  df['match_score'] = df['preprocessed_str'].apply(keyword_match_score)\n",
      "C:\\Users\\EMREHAN\\AppData\\Local\\Temp\\ipykernel_11836\\249418778.py:66: DeprecationWarning: DataFrameGroupBy.apply operated on the grouping columns. This behavior is deprecated, and in a future version of pandas the grouping columns will be excluded from the operation. Either pass `include_groups=False` to exclude the groupings or explicitly select the grouping columns after groupby to silence this warning.\n",
      "  scores = filtered_df.groupby('Product Name').apply(compute_laptop_score).reset_index(name='score')\n"
     ]
    },
    {
     "name": "stdout",
     "output_type": "stream",
     "text": [
      "ROBO: Önerilen ürünler:\n",
      "Monster Abra A5 V16.7.3 Intel Core i5-11400H 16GB RAM 500GB SSD 4GB GTX1650 FreeDOS 15.6\" FHD 144Hz Oyun Bilgisayarı - Fiyat: 29.999 TL - Link: https://www.hepsiburada.com/monster-abra-a5-v16-7-3-intel-core-i5-11400h-16gb-ram-500gb-ssd-4gb-gtx1650-freedos-15-6-fhd-144hz-oyun-bilgisayari-pm-HBC00000IIGS8\n",
      "Monster Tulpar T7 V20.7.2 Intel Core i7 12650H 32 GB RAM 1 TB SSD 8 GB RTX 4060 FreeDOS 17,3\" FHD 144 Hz Oyun Bilgisayarı - Fiyat: 61.499 TL - Link: https://www.hepsiburada.com/monster-tulpar-t7-v20-7-2-intel-core-i7-12650h-32-gb-ram-1-tb-ssd-8-gb-rtx-4060-freedos-17-3-fhd-144-hz-oyun-bilgisayari-pm-HBC00004WGDS3\n",
      "Monster Abra A5 V20.3.2 Intel Core i7 13700H 32 GB RAM 1 TB SSD 6 GB RTX 4050 FreeDOS 15,6\" FHD 144 Hz Oyun Bilgisayarı - Fiyat: 46.399 TL - Link: https://www.hepsiburada.com/monster-abra-a5-v20-3-2-intel-core-i7-13700h-32-gb-ram-1-tb-ssd-6-gb-rtx-4050-freedos-15-6-fhd-144-hz-oyun-bilgisayari-pm-HBC00004H2Q90\n",
      "Monster Abra A5 V20.2.2 Intel Core i5 13500H 32 GB RAM 1 TB SSD 6 GB RTX 4050 FreeDOS 15,6\" FHD 144 Hz Oyun Bilgisayarı - Fiyat: 42.499 TL - Link: https://www.hepsiburada.com/monster-abra-a5-v20-2-2-intel-core-i5-13500h-32-gb-ram-1-tb-ssd-6-gb-rtx-4050-freedos-15-6-fhd-144-hz-oyun-bilgisayari-pm-HBC00004GCSBL\n",
      "MONSTER Tulpar T5 V23.3.2 - Fiyat: 49.999 TL - Link: https://www.trendyol.com/monster/tulpar-t5-v23-3-2-intel-core-i5-12450h-32-gb-ram-1-tb-ssd-8-gb-rtx-4060-freedos-15-6-fhd-144-hz-p-762942774?boutiqueId=61&merchantId=203702\n"
     ]
    },
    {
     "name": "stderr",
     "output_type": "stream",
     "text": [
      "C:\\Users\\EMREHAN\\AppData\\Local\\Temp\\ipykernel_11836\\249418778.py:66: DeprecationWarning: DataFrameGroupBy.apply operated on the grouping columns. This behavior is deprecated, and in a future version of pandas the grouping columns will be excluded from the operation. Either pass `include_groups=False` to exclude the groupings or explicitly select the grouping columns after groupby to silence this warning.\n",
      "  scores = filtered_df.groupby('Product Name').apply(compute_laptop_score).reset_index(name='score')\n"
     ]
    },
    {
     "name": "stdout",
     "output_type": "stream",
     "text": [
      "ROBO: Önerilen ürünler:\n",
      "HP Victus 16-S0053NT Ryzen 7-7840HS 16GB 1tb SSD 6gb Rtx 4050 144Hz 16.1\"fdos Laptop 892Q1EA - Fiyat: 38.999 TL - Link: https://www.hepsiburada.com/hp-victus-16-s0053nt-ryzen-7-7840hs-16gb-1tb-ssd-6gb-rtx-4050-144hz-16-1-fdos-laptop-892q1ea-pm-HBC00004JN1H1\n",
      "Apple M2 çipli MacBook Air laptop 13.6 inç Liquid Retina ekran, 16GB RAM, 256 GB SSD depolama, arkadan aydınlatmalı klavye, 1080p FaceTime HD kamera. iPhone ve iPad ile uyumlu; Gece Yarısı - Fiyat: 40.399 TL - Link: https://www.amazon.com.tr/Apple-MacBook-depolama-ayd%C4%B1nlatmal%C4%B1-FaceTime/dp/B0DLHMLFZL/ref=sr_1_8?dib=eyJ2IjoiMSJ9.cAStGyXY4Ttlop_Td9PZXiT8XUwEgMm5EFh6-h95Y1hWj9uUUBoaD8md3A4UjnjuIagUE3vJx3KnUi-JvH8cKk0HTEGAX8kO0Bhtc8QUjYa2l6_zy0ln6kP2qI_6Kxoh-nDmgMQKQl-tP6Q3U9i6Xdo8nrDd85-9hZEJrFyfJIHDVKHvBuVDoc8__xz73XZ515r2uBFMSt5cRM1v22ysRKWFcdViGJQCj0yZA6WUJqAwlS7Qbx81kqBIQYsncmEogGLZXwAk8vb032RdTv_eCvYz9uDT9D7To-w7UHkP2VrMV276jD3bNLuT6iBIwgFyMQ8yLp_hU-b_xy0aYApkCHejwbw8mlO-w_2rrCVVzck.Oyo7D-r7aZUqHTPMtdljGI-kKT6WVuVoCeztVUvTInw&dib_tag=se&qid=1738967976&s=computers&sr=1-8\n",
      "HP Victus Gaming 15-FA1033NT Intel Core i5 13500H 16GB 512GB SSD RTX4050 Freedos 15.6\" FHD Taşınabilir Bilgisayar 7N9V2EA - Fiyat: 38.024 TL - Link: https://www.hepsiburada.com/hp-victus-gaming-15-fa1033nt-intel-core-i5-13500h-16gb-512gb-ssd-rtx4050-freedos-15-6-fhd-tasinabilir-bilgisayar-7n9v2ea-pm-HBC000048JZ3N\n",
      "Apple 2020 MacBook Air Laptop: Apple M1 Çip, 13 inç Retina Ekran, 8 GB RAM, 256 GB SSD Depolama, Arkadan Aydınlatmalı Klavye, FaceTime HD Kamera, Touch ID. iPhone/iPad ile çalışır; Gümüş Rengi - Fiyat: 43.999 TL - Link: https://www.amazon.com.tr/Apple-13-inch-MacBook-Air-MGN93TU/dp/B08NGQSWYK/ref=sr_1_151?dib=eyJ2IjoiMSJ9.PUpYjARowaenHti_yJ9sLr42gcQj-cxOj4aUBUkybZvKfat8sSvnhbDGik4RBSlqNR025uqUJqRdtkZAyT6cHc6yBkpB53hxuf51-sagzwQNXfO_qhkZwn5VtsIuI4z5JcTWjhiRp4EHFux3-lPz06jACGByVD6xSQqX75_cDvBoPSVFJXWHSHhw7Y0jav1uXJ2mPw0hynLmhI9uV2pxplJTzbhFHEmQcFuxPMbZx1WYkvnAgTee87AaewEkBl46ImGv47ZRPcBS-zrgxLiRNbKIaM_-HTwI0HsaW8AS63x6pPpiNWtBONs6S1bg1T-22K_UtE90sveraCdh9sul_BowzfL6SehfGkY2d0OsvHc.iV51EoR2MFjKxI5XLUaFhK5t2V6ZmbwsL0UgEg9ttsk&dib_tag=se&qid=1738968027&s=computers&sr=1-151\n",
      "Asus TUF Gaming A15 FA507NU-LP030 AMD Ryzen 7 7735HS 8GB 512GB SSD RTX4050 Freedos 15.6\" FHD 144Hz Taşınabilir Bilgisayar - Fiyat: 44.999 TL - Link: https://www.hepsiburada.com/asus-tuf-gaming-a15-fa507nu-lp030-amd-ryzen-7-7735hs-8gb-512gb-ssd-rtx4050-freedos-15-6-fhd-144hz-tasinabilir-bilgisayar-pm-HBC000046NLFB\n"
     ]
    },
    {
     "name": "stderr",
     "output_type": "stream",
     "text": [
      "C:\\Users\\EMREHAN\\AppData\\Local\\Temp\\ipykernel_11836\\249418778.py:66: DeprecationWarning: DataFrameGroupBy.apply operated on the grouping columns. This behavior is deprecated, and in a future version of pandas the grouping columns will be excluded from the operation. Either pass `include_groups=False` to exclude the groupings or explicitly select the grouping columns after groupby to silence this warning.\n",
      "  scores = filtered_df.groupby('Product Name').apply(compute_laptop_score).reset_index(name='score')\n"
     ]
    },
    {
     "name": "stdout",
     "output_type": "stream",
     "text": [
      "ROBO: Önerilen ürünler:\n",
      "HP Victus 16-S0053NT Ryzen 7-7840HS 16GB 1tb SSD 6gb Rtx 4050 144Hz 16.1\"fdos Laptop 892Q1EA - Fiyat: 38.999 TL - Link: https://www.hepsiburada.com/hp-victus-16-s0053nt-ryzen-7-7840hs-16gb-1tb-ssd-6gb-rtx-4050-144hz-16-1-fdos-laptop-892q1ea-pm-HBC00004JN1H1\n",
      "HP 15-FC0003NT AMD Ryzen 3 7320U 8GB 256GB SSD Freedos 15.6\" FHD Taşınabilir Bilgisayar 7P6E7EA - Fiyat: 12.499 TL - Link: https://www.hepsiburada.com/hp-15-fc0003nt-amd-ryzen-3-7320u-8gb-256gb-ssd-freedos-15-6-fhd-tasinabilir-bilgisayar-7p6e7ea-pm-HBC00003UU0I9\n",
      "Acer Nitro 5 AN515-46 AMD Ryzen 5 6600H 8GB 512GB SSD RTX3050 Freedos 15.6\" FHD 144 Hz Taşınabilir Bilgisayar NH.QGXEY.001 - Fiyat: 35.999 TL - Link: https://www.hepsiburada.com/acer-nitro-5-an515-46-amd-ryzen-5-6600h-8gb-512gb-ssd-rtx3050-freedos-15-6-fhd-144-hz-tasinabilir-bilgisayar-nh-qgxey-001-pm-HBC00002EFBNT\n",
      "Asus TUF Gaming A15 FA507NU-LP030 AMD Ryzen 7 7735HS 8GB 512GB SSD RTX4050 Freedos 15.6\" FHD 144Hz Taşınabilir Bilgisayar - Fiyat: 44.999 TL - Link: https://www.hepsiburada.com/asus-tuf-gaming-a15-fa507nu-lp030-amd-ryzen-7-7735hs-8gb-512gb-ssd-rtx4050-freedos-15-6-fhd-144hz-tasinabilir-bilgisayar-pm-HBC000046NLFB\n",
      "Asus TUF Gaming A15 FA507NV-LP023 AMD Ryzen 7 7735HS 16GB 512GB SSD RTX4060 Freedos 15.6\" FHD Taşınabilir Bilgisayar - Fiyat: 57.970 TL - Link: https://www.hepsiburada.com/asus-tuf-gaming-a15-fa507nv-lp023-amd-ryzen-7-7735hs-16gb-512gb-ssd-rtx4060-freedos-15-6-fhd-tasinabilir-bilgisayar-pm-HBC00004BN7CJ\n"
     ]
    },
    {
     "name": "stderr",
     "output_type": "stream",
     "text": [
      "C:\\Users\\EMREHAN\\AppData\\Local\\Temp\\ipykernel_11836\\249418778.py:66: DeprecationWarning: DataFrameGroupBy.apply operated on the grouping columns. This behavior is deprecated, and in a future version of pandas the grouping columns will be excluded from the operation. Either pass `include_groups=False` to exclude the groupings or explicitly select the grouping columns after groupby to silence this warning.\n",
      "  scores = filtered_df.groupby('Product Name').apply(compute_laptop_score).reset_index(name='score')\n"
     ]
    },
    {
     "name": "stdout",
     "output_type": "stream",
     "text": [
      "ROBO: Önerilen ürünler:\n",
      "Huawei Matebook D14 2021 Intel Core i5 10210U 8GB RAM 512GB SSD Windows 10 Home 14\" FHD Taşınabilir Bilgisayar - Fiyat: 21.999 TL - Link: https://www.hepsiburada.com/huawei-matebook-d14-2021-intel-core-i5-10210u-8gb-ram-512gb-ssd-windows-10-home-14-fhd-tasinabilir-bilgisayar-pm-HBC000014CCK6\n",
      "Asus TUF Gaming FX506HC-HN011 Intel Core i5 11400H 8GB 512GB SSD RTX3050 Freedos 15.6\" Taşınabilir Bilgisayar - Fiyat: 36.999 TL - Link: https://www.hepsiburada.com/asus-tuf-gaming-fx506hc-hn011-intel-core-i5-11400h-8gb-512gb-ssd-rtx3050-freedos-15-6-tasinabilir-bilgisayar-pm-HBC000008SRHL\n",
      "Lenovo IdeaPad Slim 3 15IAH8 Intel Core i5 12450H 8GB 512GB SSD Freedos 15.6\" FHD Taşınabilir Bilgisayar 83ER000WTR - Fiyat: 15.799 TL - Link: https://www.hepsiburada.com/lenovo-ideapad-slim-3-15iah8-intel-core-i5-12450h-8gb-512gb-ssd-freedos-15-6-fhd-tasinabilir-bilgisayar-83er000wtr-pm-HBC000059XX67\n",
      "HP Victus Gaming 15-FA1033NT Intel Core i5 13500H 16GB 512GB SSD RTX4050 Freedos 15.6\" FHD Taşınabilir Bilgisayar 7N9V2EA - Fiyat: 38.024 TL - Link: https://www.hepsiburada.com/hp-victus-gaming-15-fa1033nt-intel-core-i5-13500h-16gb-512gb-ssd-rtx4050-freedos-15-6-fhd-tasinabilir-bilgisayar-7n9v2ea-pm-HBC000048JZ3N\n",
      "Lenovo LOQ Intel Core i5 12450HX 24GB 512GB SSD RTX3050 Freedos 15.6\" FHD Taşınabilir Bilgisayar 83GS0099TR - Fiyat: 31.999 TL - Link: https://www.hepsiburada.com/lenovo-loq-intel-core-i5-12450hx-24gb-512gb-ssd-rtx3050-freedos-15-6-fhd-tasinabilir-bilgisayar-83gs0099tr-pm-HBC00006NBQC8\n"
     ]
    },
    {
     "name": "stderr",
     "output_type": "stream",
     "text": [
      "C:\\Users\\EMREHAN\\AppData\\Local\\Temp\\ipykernel_11836\\249418778.py:66: DeprecationWarning: DataFrameGroupBy.apply operated on the grouping columns. This behavior is deprecated, and in a future version of pandas the grouping columns will be excluded from the operation. Either pass `include_groups=False` to exclude the groupings or explicitly select the grouping columns after groupby to silence this warning.\n",
      "  scores = filtered_df.groupby('Product Name').apply(compute_laptop_score).reset_index(name='score')\n"
     ]
    },
    {
     "name": "stdout",
     "output_type": "stream",
     "text": [
      "ROBO: Önerilen ürünler:\n",
      "Apple MacBook Air M2 Çip 8GB 256GB SSD macOS 13\" Taşınabilir Bilgisayar Uzay Grisi MLXW3TU/A - Fiyat: 41.899 TL - Link: https://www.hepsiburada.com/apple-macbook-air-m2-cip-8gb-256gb-ssd-macos-13-tasinabilir-bilgisayar-uzay-grisi-mlxw3tu-a-pm-HBC00002GNKNS\n",
      "Huawei Matebook D14 2021 Intel Core i5 10210U 8GB RAM 512GB SSD Windows 10 Home 14\" FHD Taşınabilir Bilgisayar - Fiyat: 21.999 TL - Link: https://www.hepsiburada.com/huawei-matebook-d14-2021-intel-core-i5-10210u-8gb-ram-512gb-ssd-windows-10-home-14-fhd-tasinabilir-bilgisayar-pm-HBC000014CCK6\n",
      "Asus TUF Gaming FX506HC-HN011 Intel Core i5 11400H 8GB 512GB SSD RTX3050 Freedos 15.6\" Taşınabilir Bilgisayar - Fiyat: 36.999 TL - Link: https://www.hepsiburada.com/asus-tuf-gaming-fx506hc-hn011-intel-core-i5-11400h-8gb-512gb-ssd-rtx3050-freedos-15-6-tasinabilir-bilgisayar-pm-HBC000008SRHL\n",
      "Lenovo IdeaPad Slim 3 15IAH8 Intel Core i5 12450H 8GB 512GB SSD Freedos 15.6\" FHD Taşınabilir Bilgisayar 83ER000WTR - Fiyat: 15.799 TL - Link: https://www.hepsiburada.com/lenovo-ideapad-slim-3-15iah8-intel-core-i5-12450h-8gb-512gb-ssd-freedos-15-6-fhd-tasinabilir-bilgisayar-83er000wtr-pm-HBC000059XX67\n",
      "HP Victus Gaming 15-FA1033NT Intel Core i5 13500H 16GB 512GB SSD RTX4050 Freedos 15.6\" FHD Taşınabilir Bilgisayar 7N9V2EA - Fiyat: 38.024 TL - Link: https://www.hepsiburada.com/hp-victus-gaming-15-fa1033nt-intel-core-i5-13500h-16gb-512gb-ssd-rtx4050-freedos-15-6-fhd-tasinabilir-bilgisayar-7n9v2ea-pm-HBC000048JZ3N\n"
     ]
    },
    {
     "name": "stderr",
     "output_type": "stream",
     "text": [
      "C:\\Users\\EMREHAN\\AppData\\Local\\Temp\\ipykernel_11836\\249418778.py:66: DeprecationWarning: DataFrameGroupBy.apply operated on the grouping columns. This behavior is deprecated, and in a future version of pandas the grouping columns will be excluded from the operation. Either pass `include_groups=False` to exclude the groupings or explicitly select the grouping columns after groupby to silence this warning.\n",
      "  scores = filtered_df.groupby('Product Name').apply(compute_laptop_score).reset_index(name='score')\n"
     ]
    },
    {
     "name": "stdout",
     "output_type": "stream",
     "text": [
      "ROBO: Önerilen ürünler:\n",
      "Monster Abra A5 V16.7.3 Intel Core i5-11400H 16GB RAM 500GB SSD 4GB GTX1650 FreeDOS 15.6\" FHD 144Hz Oyun Bilgisayarı - Fiyat: 29.999 TL - Link: https://www.hepsiburada.com/monster-abra-a5-v16-7-3-intel-core-i5-11400h-16gb-ram-500gb-ssd-4gb-gtx1650-freedos-15-6-fhd-144hz-oyun-bilgisayari-pm-HBC00000IIGS8\n",
      "Asus TUF Gaming FX506HC-HN011 Intel Core i5 11400H 8GB 512GB SSD RTX3050 Freedos 15.6\" Taşınabilir Bilgisayar - Fiyat: 36.999 TL - Link: https://www.hepsiburada.com/asus-tuf-gaming-fx506hc-hn011-intel-core-i5-11400h-8gb-512gb-ssd-rtx3050-freedos-15-6-tasinabilir-bilgisayar-pm-HBC000008SRHL\n",
      "Lenovo IdeaPad Slim 3 15IAH8 Intel Core i5 12450H 8GB 512GB SSD Freedos 15.6\" FHD Taşınabilir Bilgisayar 83ER000WTR - Fiyat: 15.799 TL - Link: https://www.hepsiburada.com/lenovo-ideapad-slim-3-15iah8-intel-core-i5-12450h-8gb-512gb-ssd-freedos-15-6-fhd-tasinabilir-bilgisayar-83er000wtr-pm-HBC000059XX67\n",
      "HP Victus Gaming 15-FA1033NT Intel Core i5 13500H 16GB 512GB SSD RTX4050 Freedos 15.6\" FHD Taşınabilir Bilgisayar 7N9V2EA - Fiyat: 38.024 TL - Link: https://www.hepsiburada.com/hp-victus-gaming-15-fa1033nt-intel-core-i5-13500h-16gb-512gb-ssd-rtx4050-freedos-15-6-fhd-tasinabilir-bilgisayar-7n9v2ea-pm-HBC000048JZ3N\n",
      "Lenovo 82C2006BTX Intel Celeron N4120 4GB Ram 256GB SSD 14\" Freedos Taşınabilir Bilgisayar - Fiyat: 14.299 TL - Link: https://www.hepsiburada.com/lenovo-82c2006btx-intel-celeron-n4120-4gb-ram-256gb-ssd-14-freedos-tasinabilir-bilgisayar-pm-HBC00001ZL25V\n",
      "ROBO: Belirttiğiniz kriterlere uygun ürün bulunamadı.\n"
     ]
    },
    {
     "name": "stderr",
     "output_type": "stream",
     "text": [
      "C:\\Users\\EMREHAN\\AppData\\Local\\Temp\\ipykernel_11836\\249418778.py:59: SettingWithCopyWarning: \n",
      "A value is trying to be set on a copy of a slice from a DataFrame.\n",
      "Try using .loc[row_indexer,col_indexer] = value instead\n",
      "\n",
      "See the caveats in the documentation: https://pandas.pydata.org/pandas-docs/stable/user_guide/indexing.html#returning-a-view-versus-a-copy\n",
      "  df['match_score'] = df['preprocessed_str'].apply(keyword_match_score)\n",
      "C:\\Users\\EMREHAN\\AppData\\Local\\Temp\\ipykernel_11836\\249418778.py:66: DeprecationWarning: DataFrameGroupBy.apply operated on the grouping columns. This behavior is deprecated, and in a future version of pandas the grouping columns will be excluded from the operation. Either pass `include_groups=False` to exclude the groupings or explicitly select the grouping columns after groupby to silence this warning.\n",
      "  scores = filtered_df.groupby('Product Name').apply(compute_laptop_score).reset_index(name='score')\n"
     ]
    },
    {
     "name": "stdout",
     "output_type": "stream",
     "text": [
      "ROBO: Önerilen ürünler:\n",
      "CASPER Excalibur - Fiyat: 32.299 TL - Link: https://www.trendyol.com/casper/excalibur-g770-1245-dfj0x-b-i5-12450h-32gb-ram-1tb-nvme-ssd-gen4-4gb-rtx3050-dos-gaming-laptop-p-445708761?boutiqueId=61&merchantId=114258\n",
      "CASPER Nirvana - Fiyat: 10.650 TL - Link: https://www.trendyol.com/casper/nirvana-c370-4020-4c00b-intel-celeron-n4020-4gb-ram-120gb-ssd-windows-11-home-15-6-hd-laptop-p-358003688?boutiqueId=61&merchantId=841186\n",
      "Casper Nirvana X600.5700-BV00X-G-F AMD Ryzen 7 5700U 16GB 500GB SSD Freedos 15.6\" Taşınabilir Bilgisayar - Fiyat: 19.318 TL - Link: https://www.hepsiburada.com/casper-nirvana-x600-5700-bv00x-g-f-amd-ryzen-7-5700u-16gb-500gb-ssd-freedos-15-6-tasinabilir-bilgisayar-pm-HBC000058M0T9\n",
      "Casper Nirvana X600.5500-BV00X-G-F AMD Ryzen 5 5500U 16GB 500GB SSD Freedos 15.6\" Taşınabilir Bilgisayar - Fiyat: 29.220 TL - Link: https://www.hepsiburada.com/casper-nirvana-x600-5500-bv00x-g-f-amd-ryzen-5-5500u-16gb-500gb-ssd-freedos-15-6-tasinabilir-bilgisayar-pm-HBC000058M0LQ\n",
      "Casper Nirvana C550.1235-BV00X-G-F Intel Core i5 1235U 16GB 500GB SSD Freedos 15.6\" Taşınabilir Bilgisayar - Fiyat: 15.499 TL - Link: https://www.hepsiburada.com/casper-nirvana-c550-1235-bv00x-g-f-intel-core-i5-1235u-16gb-500gb-ssd-freedos-15-6-tasinabilir-bilgisayar-pm-HBC00004K3M6K\n"
     ]
    },
    {
     "name": "stderr",
     "output_type": "stream",
     "text": [
      "C:\\Users\\EMREHAN\\AppData\\Local\\Temp\\ipykernel_11836\\249418778.py:59: SettingWithCopyWarning: \n",
      "A value is trying to be set on a copy of a slice from a DataFrame.\n",
      "Try using .loc[row_indexer,col_indexer] = value instead\n",
      "\n",
      "See the caveats in the documentation: https://pandas.pydata.org/pandas-docs/stable/user_guide/indexing.html#returning-a-view-versus-a-copy\n",
      "  df['match_score'] = df['preprocessed_str'].apply(keyword_match_score)\n",
      "C:\\Users\\EMREHAN\\AppData\\Local\\Temp\\ipykernel_11836\\249418778.py:66: DeprecationWarning: DataFrameGroupBy.apply operated on the grouping columns. This behavior is deprecated, and in a future version of pandas the grouping columns will be excluded from the operation. Either pass `include_groups=False` to exclude the groupings or explicitly select the grouping columns after groupby to silence this warning.\n",
      "  scores = filtered_df.groupby('Product Name').apply(compute_laptop_score).reset_index(name='score')\n"
     ]
    },
    {
     "name": "stdout",
     "output_type": "stream",
     "text": [
      "ROBO: Önerilen ürünler:\n",
      "CASPER Excalibur - Fiyat: 32.299 TL - Link: https://www.trendyol.com/casper/excalibur-g770-1245-dfj0x-b-i5-12450h-32gb-ram-1tb-nvme-ssd-gen4-4gb-rtx3050-dos-gaming-laptop-p-445708761?boutiqueId=61&merchantId=114258\n",
      "CASPER Nirvana - Fiyat: 10.650 TL - Link: https://www.trendyol.com/casper/nirvana-c370-4020-4c00b-intel-celeron-n4020-4gb-ram-120gb-ssd-windows-11-home-15-6-hd-laptop-p-358003688?boutiqueId=61&merchantId=841186\n",
      "Casper Nirvana X600.5700-BV00X-G-F AMD Ryzen 7 5700U 16GB 500GB SSD Freedos 15.6\" Taşınabilir Bilgisayar - Fiyat: 19.318 TL - Link: https://www.hepsiburada.com/casper-nirvana-x600-5700-bv00x-g-f-amd-ryzen-7-5700u-16gb-500gb-ssd-freedos-15-6-tasinabilir-bilgisayar-pm-HBC000058M0T9\n",
      "Casper Nirvana X600.5500-BV00X-G-F AMD Ryzen 5 5500U 16GB 500GB SSD Freedos 15.6\" Taşınabilir Bilgisayar - Fiyat: 29.220 TL - Link: https://www.hepsiburada.com/casper-nirvana-x600-5500-bv00x-g-f-amd-ryzen-5-5500u-16gb-500gb-ssd-freedos-15-6-tasinabilir-bilgisayar-pm-HBC000058M0LQ\n",
      "Casper Nirvana C550.1235-BV00X-G-F Intel Core i5 1235U 16GB 500GB SSD Freedos 15.6\" Taşınabilir Bilgisayar - Fiyat: 15.499 TL - Link: https://www.hepsiburada.com/casper-nirvana-c550-1235-bv00x-g-f-intel-core-i5-1235u-16gb-500gb-ssd-freedos-15-6-tasinabilir-bilgisayar-pm-HBC00004K3M6K\n"
     ]
    },
    {
     "name": "stderr",
     "output_type": "stream",
     "text": [
      "C:\\Users\\EMREHAN\\AppData\\Local\\Temp\\ipykernel_11836\\249418778.py:66: DeprecationWarning: DataFrameGroupBy.apply operated on the grouping columns. This behavior is deprecated, and in a future version of pandas the grouping columns will be excluded from the operation. Either pass `include_groups=False` to exclude the groupings or explicitly select the grouping columns after groupby to silence this warning.\n",
      "  scores = filtered_df.groupby('Product Name').apply(compute_laptop_score).reset_index(name='score')\n"
     ]
    },
    {
     "name": "stdout",
     "output_type": "stream",
     "text": [
      "ROBO: Önerilen ürünler:\n",
      "HP Victus 16-S0053NT Ryzen 7-7840HS 16GB 1tb SSD 6gb Rtx 4050 144Hz 16.1\"fdos Laptop 892Q1EA - Fiyat: 38.999 TL - Link: https://www.hepsiburada.com/hp-victus-16-s0053nt-ryzen-7-7840hs-16gb-1tb-ssd-6gb-rtx-4050-144hz-16-1-fdos-laptop-892q1ea-pm-HBC00004JN1H1\n",
      "HP 15-FC0003NT AMD Ryzen 3 7320U 8GB 256GB SSD Freedos 15.6\" FHD Taşınabilir Bilgisayar 7P6E7EA - Fiyat: 12.499 TL - Link: https://www.hepsiburada.com/hp-15-fc0003nt-amd-ryzen-3-7320u-8gb-256gb-ssd-freedos-15-6-fhd-tasinabilir-bilgisayar-7p6e7ea-pm-HBC00003UU0I9\n",
      "Acer Nitro 5 AN515-46 AMD Ryzen 5 6600H 8GB 512GB SSD RTX3050 Freedos 15.6\" FHD 144 Hz Taşınabilir Bilgisayar NH.QGXEY.001 - Fiyat: 35.999 TL - Link: https://www.hepsiburada.com/acer-nitro-5-an515-46-amd-ryzen-5-6600h-8gb-512gb-ssd-rtx3050-freedos-15-6-fhd-144-hz-tasinabilir-bilgisayar-nh-qgxey-001-pm-HBC00002EFBNT\n",
      "Asus TUF Gaming A15 FA507NU-LP030 AMD Ryzen 7 7735HS 8GB 512GB SSD RTX4050 Freedos 15.6\" FHD 144Hz Taşınabilir Bilgisayar - Fiyat: 44.999 TL - Link: https://www.hepsiburada.com/asus-tuf-gaming-a15-fa507nu-lp030-amd-ryzen-7-7735hs-8gb-512gb-ssd-rtx4050-freedos-15-6-fhd-144hz-tasinabilir-bilgisayar-pm-HBC000046NLFB\n",
      "Asus TUF Gaming A15 FA507NV-LP023 AMD Ryzen 7 7735HS 16GB 512GB SSD RTX4060 Freedos 15.6\" FHD Taşınabilir Bilgisayar - Fiyat: 57.970 TL - Link: https://www.hepsiburada.com/asus-tuf-gaming-a15-fa507nv-lp023-amd-ryzen-7-7735hs-16gb-512gb-ssd-rtx4060-freedos-15-6-fhd-tasinabilir-bilgisayar-pm-HBC00004BN7CJ\n",
      "ROBO: Belirttiğiniz kriterlere uygun ürün bulunamadı.\n"
     ]
    },
    {
     "name": "stderr",
     "output_type": "stream",
     "text": [
      "C:\\Users\\EMREHAN\\AppData\\Local\\Temp\\ipykernel_11836\\249418778.py:66: DeprecationWarning: DataFrameGroupBy.apply operated on the grouping columns. This behavior is deprecated, and in a future version of pandas the grouping columns will be excluded from the operation. Either pass `include_groups=False` to exclude the groupings or explicitly select the grouping columns after groupby to silence this warning.\n",
      "  scores = filtered_df.groupby('Product Name').apply(compute_laptop_score).reset_index(name='score')\n"
     ]
    },
    {
     "name": "stdout",
     "output_type": "stream",
     "text": [
      "ROBO: Önerilen ürünler:\n",
      "Huawei Matebook D14 2021 Intel Core i5 10210U 8GB RAM 512GB SSD Windows 10 Home 14\" FHD Taşınabilir Bilgisayar - Fiyat: 21.999 TL - Link: https://www.hepsiburada.com/huawei-matebook-d14-2021-intel-core-i5-10210u-8gb-ram-512gb-ssd-windows-10-home-14-fhd-tasinabilir-bilgisayar-pm-HBC000014CCK6\n",
      "Asus TUF Gaming FX506HC-HN011 Intel Core i5 11400H 8GB 512GB SSD RTX3050 Freedos 15.6\" Taşınabilir Bilgisayar - Fiyat: 36.999 TL - Link: https://www.hepsiburada.com/asus-tuf-gaming-fx506hc-hn011-intel-core-i5-11400h-8gb-512gb-ssd-rtx3050-freedos-15-6-tasinabilir-bilgisayar-pm-HBC000008SRHL\n",
      "Lenovo IdeaPad Slim 3 15IAH8 Intel Core i5 12450H 8GB 512GB SSD Freedos 15.6\" FHD Taşınabilir Bilgisayar 83ER000WTR - Fiyat: 15.799 TL - Link: https://www.hepsiburada.com/lenovo-ideapad-slim-3-15iah8-intel-core-i5-12450h-8gb-512gb-ssd-freedos-15-6-fhd-tasinabilir-bilgisayar-83er000wtr-pm-HBC000059XX67\n",
      "HP Victus Gaming 15-FA1033NT Intel Core i5 13500H 16GB 512GB SSD RTX4050 Freedos 15.6\" FHD Taşınabilir Bilgisayar 7N9V2EA - Fiyat: 38.024 TL - Link: https://www.hepsiburada.com/hp-victus-gaming-15-fa1033nt-intel-core-i5-13500h-16gb-512gb-ssd-rtx4050-freedos-15-6-fhd-tasinabilir-bilgisayar-7n9v2ea-pm-HBC000048JZ3N\n",
      "Lenovo LOQ Intel Core i5 12450HX 24GB 512GB SSD RTX3050 Freedos 15.6\" FHD Taşınabilir Bilgisayar 83GS0099TR - Fiyat: 31.999 TL - Link: https://www.hepsiburada.com/lenovo-loq-intel-core-i5-12450hx-24gb-512gb-ssd-rtx3050-freedos-15-6-fhd-tasinabilir-bilgisayar-83gs0099tr-pm-HBC00006NBQC8\n",
      "ROBO: Belirttiğiniz kriterlere uygun ürün bulunamadı.\n",
      "ROBO: Görüşmek üzere!\n"
     ]
    }
   ],
   "source": [
    "import warnings\n",
    "warnings.filterwarnings(\"ignore\", category=UserWarning, module=\"sklearn.feature_extraction.text\")\n",
    "import re\n",
    "\n",
    "def greet(text):\n",
    "    # Giriş metnini temizleyip, küçük harfe çeviriyoruz\n",
    "    cleaned_text = re.sub(r'[^\\w\\s]', '', text.lower())\n",
    "    greetings = ['merhaba', 'selam', 'iyi günler']\n",
    "    for word in greetings:\n",
    "        if word in cleaned_text.split():\n",
    "            return \"Merhaba, nasıl yardımcı olabilirim?\"\n",
    "    return None\n",
    "\n",
    "flag = True\n",
    "print(\"ROBO: Ben LapAdvisor BOT. Size nasıl yardımcı olabilirim? Çıkmak için 'Kapat' yazın.\")\n",
    "\n",
    "while flag:\n",
    "    user_response = input(\"Siz: \").strip()\n",
    "    lower_response = user_response.lower()\n",
    "\n",
    "    if lower_response == \"kapat\":\n",
    "        flag = False\n",
    "        print(\"ROBO: Görüşmek üzere!\")\n",
    "    elif lower_response in ['teşekkür ederim', 'teşekkürler']:\n",
    "        flag = False\n",
    "        print(\"ROBO: Rica ederim, iyi günler dilerim.\")\n",
    "    else:\n",
    "        greet_response = greet(user_response)\n",
    "        if greet_response is not None:\n",
    "            print(\"ROBO: \" + greet_response)\n",
    "        else:\n",
    "            print(\"ROBO: \" + get_top_laptops_by_keywords(user_response, df))"
   ]
  },
  {
   "cell_type": "code",
   "execution_count": 28,
   "metadata": {},
   "outputs": [
    {
     "name": "stderr",
     "output_type": "stream",
     "text": [
      "[nltk_data] Downloading package punkt to\n",
      "[nltk_data]     C:\\Users\\EMREHAN\\AppData\\Roaming\\nltk_data...\n",
      "[nltk_data]   Package punkt is already up-to-date!\n"
     ]
    },
    {
     "name": "stdout",
     "output_type": "stream",
     "text": [
      "Chatbot hazır. Çıkmak için 'çıkış' yazın.\n"
     ]
    },
    {
     "name": "stderr",
     "output_type": "stream",
     "text": [
      "C:\\Users\\EMREHAN\\AppData\\Local\\Temp\\ipykernel_11836\\2522722012.py:67: DeprecationWarning: DataFrameGroupBy.apply operated on the grouping columns. This behavior is deprecated, and in a future version of pandas the grouping columns will be excluded from the operation. Either pass `include_groups=False` to exclude the groupings or explicitly select the grouping columns after groupby to silence this warning.\n",
      "  scores = recommendations.groupby('Product Name').apply(compute_laptop_score).reset_index(name='score')\n"
     ]
    },
    {
     "name": "stdout",
     "output_type": "stream",
     "text": [
      "Chatbot: Önerilen ürünler:\n",
      "Lenovo IdeaPad Slim 3 16IAH8 83ES003QTR i5-12450H 16 GB 1 TB SSD 16\" Dos Dizüstü Bilgisayar - Fiyat: 21.999 TL - Link: https://www.n11.com/urun/lenovo-ideapad-slim-3-16iah8-83es003qtr-i5-12450h-16-gb-1-tb-ssd-16-dos-dizustu-bilgisayar-63850960 - Resim: https://n11scdn.akamaized.net/a1/226_339/13/07/65/03/IMG-1878119602005909902.png\n",
      "Lenovo Yoga 7 2-in-1 14AHP9 83DK005PTR R7-8840HS 16 GB 1 TB SSD 14\" Dos WUXGA Dizüstü Bilgisayar - Fiyat: 37.799 TL - Link: https://www.n11.com/urun/lenovo-yoga-7-2-in-1-14ahp9-83dk005ptr-r7-8840hs-16-gb-1-tb-ssd-14-dos-wuxga-dizustu-bilgisayar-55464552 - Resim: https://n11scdn.akamaized.net/a1/226_339/07/61/74/18/IMG-411114956174372667.jpg\n",
      "Lenovo IdeaPad 1 15AMN7 Dizüstü Bilgisayar, 15.6\" FHD TN 220nits, AMD Ryzen 3 7320U, 8 GB RAM, 256 GB SSD, Entegre AMD Radeon 610M Graphics, FreeDOS, 82VG008ATX - Fiyat: 50.001 TL - Link: https://www.amazon.com.tr/Lenovo-Bilgisayar-Integrated-Graphics-82VG008ATX/dp/B0CK871H2F/ref=sr_1_89?dib=eyJ2IjoiMSJ9.GBFXtvqvvADT7u7V5k3jhBsxQDlHbcl6h0zoojiAGgia2JTS8T9t8Dit1cwk6secmf68bHuVKKxQa_7Xg9NHQUBwmtBPbBZ_y7Dgq9f3s9QbzWIaSFKOQCZcOtBPz9qmmIaK5QoNsjzdMSj3NRUk88sMdppPTbInv5FYu5NmN-AqKHGPn3cfEa9fm0TSD2fTRcWByaqD58v6fjNYMYtGReYeqUrsc1e73E_cWluDfSWJoUM5PAmj1BNiEXlMICHQ2ESLuSfXtQ_aHfZmGa9fFcWQ7_9drL8J5UIkwSxO-w-P24rk5xCK67oFJMnvUktAOwqCzFRCs4OZ1ztrgQOzWdtFLKItft5fbAk10YQwJ5c.cSWiclNrz2qfbj7MoReOc4WS9n8iIz5rAgxNhYIoZUA&dib_tag=se&qid=1738968001&s=computers&sr=1-89 - Resim: https://m.media-amazon.com/images/I/71py7cO43WL._AC_UL320_.jpg\n",
      "Lenovo IdeaPad 3 Dizüstü Bilgisayar, Intel Core i3-1215U, 15.6\", 8 GB RAM, 256 GB SSD, FreeDOS, 82RK011BTX - Fiyat: 11.659 TL - Link: https://www.amazon.com.tr/Lenovo-IdeaPad-Bilgisayar-i3-1215U-82RK011BTX/dp/B0CQTKWH2M/ref=sr_1_3?dib=eyJ2IjoiMSJ9.cAStGyXY4Ttlop_Td9PZXiT8XUwEgMm5EFh6-h95Y1hWj9uUUBoaD8md3A4UjnjuIagUE3vJx3KnUi-JvH8cKk0HTEGAX8kO0Bhtc8QUjYa2l6_zy0ln6kP2qI_6Kxoh-nDmgMQKQl-tP6Q3U9i6Xdo8nrDd85-9hZEJrFyfJIHDVKHvBuVDoc8__xz73XZ515r2uBFMSt5cRM1v22ysRKWFcdViGJQCj0yZA6WUJqAwlS7Qbx81kqBIQYsncmEogGLZXwAk8vb032RdTv_eCvYz9uDT9D7To-w7UHkP2VrMV276jD3bNLuT6iBIwgFyMQ8yLp_hU-b_xy0aYApkCHejwbw8mlO-w_2rrCVVzck.Oyo7D-r7aZUqHTPMtdljGI-kKT6WVuVoCeztVUvTInw&dib_tag=se&qid=1738967976&s=computers&sr=1-3 - Resim: https://m.media-amazon.com/images/I/61DQ67Cr2HL._AC_UL320_.jpg\n",
      "Lenovo IdeaPad Gaming 3 Dizüstü Bilgisayar, AMD Ryzen 5 7535HS, 15.6\", 8 GB RAM, 512 GB SSD, GeForce RTX 3050 6GB, FreeDOS, 82SB00RHTX - Fiyat: 37.999 TL - Link: https://www.amazon.com.tr/Lenovo-IdeaPad-Diz%C3%BCst%C3%BC-Bilgisayar-82SB00RHTX/dp/B0CQTKTLYF/ref=sr_1_13?dib=eyJ2IjoiMSJ9.cAStGyXY4Ttlop_Td9PZXiT8XUwEgMm5EFh6-h95Y1hWj9uUUBoaD8md3A4UjnjuIagUE3vJx3KnUi-JvH8cKk0HTEGAX8kO0Bhtc8QUjYa2l6_zy0ln6kP2qI_6Kxoh-nDmgMQKQl-tP6Q3U9i6Xdo8nrDd85-9hZEJrFyfJIHDVKHvBuVDoc8__xz73XZ515r2uBFMSt5cRM1v22ysRKWFcdViGJQCj0yZA6WUJqAwlS7Qbx81kqBIQYsncmEogGLZXwAk8vb032RdTv_eCvYz9uDT9D7To-w7UHkP2VrMV276jD3bNLuT6iBIwgFyMQ8yLp_hU-b_xy0aYApkCHejwbw8mlO-w_2rrCVVzck.Oyo7D-r7aZUqHTPMtdljGI-kKT6WVuVoCeztVUvTInw&dib_tag=se&qid=1738967976&s=computers&sr=1-13 - Resim: https://m.media-amazon.com/images/I/51At6j6wcOL._AC_UL320_.jpg\n"
     ]
    },
    {
     "name": "stderr",
     "output_type": "stream",
     "text": [
      "C:\\Users\\EMREHAN\\AppData\\Local\\Temp\\ipykernel_11836\\2522722012.py:67: DeprecationWarning: DataFrameGroupBy.apply operated on the grouping columns. This behavior is deprecated, and in a future version of pandas the grouping columns will be excluded from the operation. Either pass `include_groups=False` to exclude the groupings or explicitly select the grouping columns after groupby to silence this warning.\n",
      "  scores = recommendations.groupby('Product Name').apply(compute_laptop_score).reset_index(name='score')\n"
     ]
    },
    {
     "name": "stdout",
     "output_type": "stream",
     "text": [
      "Chatbot: Önerilen ürünler:\n",
      "ASUS Laptop X515ma-br423t - Fiyat: 12.989 TL - Link: https://www.trendyol.com/asus/laptop-x515ma-br423t-celeron-n4020-4gb-ram-128gb-ssd-15-6-w10-notebook-p-176241631?boutiqueId=61&merchantId=409439 - Resim: https://cdn.dsmcdn.com/ty345/product/media/images/20220302/10/61206142/287192595/2/2_org.jpg\n",
      "ASUS X1502za-Ej654w Intel - Fiyat: 17.499 TL - Link: https://www.trendyol.com/asus/x1502za-ej654w-intel-i5-1235u-8gb-256gb-ssd-intel-iris-xe-graphics-15-6-fhd-w11-mavi-notebook-p-753724191?boutiqueId=61&merchantId=153128 - Resim: https://cdn.dsmcdn.com/ty994/product/media/images/prod/SPM/PIM/20230905/09/91aa9303-b78d-31be-993c-6d3da4c30d89/1_org.jpg\n",
      "ASUS Vivobook 15 Intel Core - Fiyat: 19.399 TL - Link: https://www.trendyol.com/asus/vivobook-15-intel-core-i5-1235u-16gb-1tb-ssd-w11p-15-6-fhd-bilgisayar-csrtech-p-795953654?boutiqueId=61&merchantId=334898 - Resim: https://cdn.dsmcdn.com/ty1129/product/media/images/prod/SPM/PIM/20240110/19/fc5346fb-8788-30ae-b805-4340008272e9/1_org.jpg\n",
      "ASUS Vivobook-15 Intel Core - Fiyat: 18.899 TL - Link: https://www.trendyol.com/asus/vivobook-15-intel-core-i5-1235u-8gb-512gb-ssd-15-6-fhd-ips-dos-lacivert-laptop-x1504za-bq322-p-762266568?boutiqueId=61&merchantId=557390 - Resim: https://cdn.dsmcdn.com/ty1008/product/media/images/prod/PIM/20231004/13/892c24d7-0938-4624-a0ae-4ad50d80cb2e/1_org.jpg\n",
      "ASUS X515EA-BQ1190 Intel Core - Fiyat: 19.999 TL - Link: https://www.trendyol.com/asus/x515ea-bq1190-intel-core-i5-1135g7-8gb-512gb-ssd-dos-15-6-fhd-laptop-asus-turkiye-garantili-p-458249190?boutiqueId=61&merchantId=868180 - Resim: https://cdn.dsmcdn.com/ty1402/product/media/images/prod/QC/20240705/18/65707881-2605-30f4-9621-29e4812d9e5f/1_org.jpg\n"
     ]
    },
    {
     "name": "stderr",
     "output_type": "stream",
     "text": [
      "C:\\Users\\EMREHAN\\AppData\\Local\\Temp\\ipykernel_11836\\2522722012.py:67: DeprecationWarning: DataFrameGroupBy.apply operated on the grouping columns. This behavior is deprecated, and in a future version of pandas the grouping columns will be excluded from the operation. Either pass `include_groups=False` to exclude the groupings or explicitly select the grouping columns after groupby to silence this warning.\n",
      "  scores = recommendations.groupby('Product Name').apply(compute_laptop_score).reset_index(name='score')\n"
     ]
    },
    {
     "name": "stdout",
     "output_type": "stream",
     "text": [
      "Chatbot: Önerilen ürünler:\n",
      "Dell G15 5530 G55302401005U i7-13650HX 16 GB 512 GB SSD RTX3050 15.6\" Ubuntu FHD Dizüstü Bilgisayar - Fiyat: 36.499 TL - Link: https://www.n11.com/urun/dell-g15-5530-g55302401005u-i7-13650hx-16-gb-512-gb-ssd-rtx3050-156-ubuntu-fhd-dizustu-bilgisayar-43647275 - Resim: https://n11scdn.akamaized.net/a1/226_339/09/81/06/75/IMG-413544325419535366.jpg\n",
      "Apple MacBook Air M3 Çip 8GB 256GB SSD macOS 13\" Taşınabilir Bilgisayar Gece Yarısı MRXV3TU/A - Fiyat: 46.999 TL - Link: https://www.hepsiburada.com/apple-macbook-air-m3-cip-8gb-256gb-ssd-macos-13-tasinabilir-bilgisayar-gece-yarisi-mrxv3tu-a-pm-HBC000061W676 - Resim: https://productimages.hepsiburada.net/s/777/424-600/110000646718723.jpg\n",
      "HONOR Magicbook X15 BBR-WAH9 Intel Core i5 10210U 8GB Ram 512GB SSD Windows 10 Home 15.6\" FHD Taşınabilir Bilgisayar Space Gray - Fiyat: 24.999 TL - Link: https://www.hepsiburada.com/honor-magicbook-x15-bbr-wah9-intel-core-i5-10210u-8gb-ram-512gb-ssd-windows-10-home-15-6-fhd-tasinabilir-bilgisayar-space-gray-pm-HBC00000FK1CH - Resim: https://productimages.hepsiburada.net/s/172/424-600/110000135149024.jpg\n",
      "Acer Nitro 5 AN515-58-524A Oyun Dizüstü Bilgisayarı, Intel I5-12450H İşlemci, 8 GB DDR5 RAM, 1 TB M.2 NVMe SSD, GeForce RTX 4050 6 GB GDDR6 Ekran Kartı, 15.6 inç Full HD Ekran, FreeDOS, NH.QLZEY.009 - Fiyat: 45.499 TL - Link: https://www.amazon.com.tr/Acer-AN515-58-524A-Bilgisayar%C4%B1-I5-12450H-NH-QLZEY-009/dp/B0CLP79D6F/ref=sr_1_127?dib=eyJ2IjoiMSJ9.Xlf-UcHDRhpu0STKojABNcDqhHau3tLMqnrduEyJbDa7_wwlVKFQlXUiWB-8ulqyNF7lcNI8-4z_-8e6mmeJUK3X8S_6GeMLclyLbLGIxnqbrfBOm49k0-DElGytJen6VSTVTSFItQfyibWvY-ccKM3WLqX0tFK4m9OyoyBQTMM5GrcoHoMpA68p0gHcSpmEoyr2eclvEvyrlYWI3RtwwAn4wYAJMSVdHfR1psFp5HEtfKIGPOakgIQLh52pFnZT7yCaBX9MMTx-A-GyT-1LtOsUTtuqBOj0sUKBMJSEX_9bWoaNnsD_zu9IJYoOr65pH2xR1XiP35-5GzMykEUKEIqVRMGcRyrgyokWAn80B5U.A1ZDnB1YZR8S1_mtejTOGMpz4DhUBSQsaj4hFm9JtJ0&dib_tag=se&qid=1738968017&s=computers&sr=1-127 - Resim: https://m.media-amazon.com/images/I/71HJCQPVrdL._AC_UL320_.jpg\n",
      "Asus X515EA-BQ945W i3-1115G4 4 GB 256 GB SSD 15.6\" W11H FHD Dizüstü Bilgisayar - Fiyat: 12.002 TL - Link: https://www.n11.com/urun/asus-x515ea-bq945w-i3-1115g4-4-gb-256-gb-ssd-156-w11h-fhd-dizustu-bilgisayar-46762696 - Resim: https://n11scdn.akamaized.net/a1/226_339/06/10/87/85/IMG-3800566428255931169.jpg\n"
     ]
    },
    {
     "name": "stderr",
     "output_type": "stream",
     "text": [
      "C:\\Users\\EMREHAN\\AppData\\Local\\Temp\\ipykernel_11836\\2522722012.py:67: DeprecationWarning: DataFrameGroupBy.apply operated on the grouping columns. This behavior is deprecated, and in a future version of pandas the grouping columns will be excluded from the operation. Either pass `include_groups=False` to exclude the groupings or explicitly select the grouping columns after groupby to silence this warning.\n",
      "  scores = recommendations.groupby('Product Name').apply(compute_laptop_score).reset_index(name='score')\n"
     ]
    },
    {
     "name": "stdout",
     "output_type": "stream",
     "text": [
      "Chatbot: Önerilen ürünler:\n",
      "ASUS Rog Strix G16 - Fiyat: 61.990 TL - Link: https://www.trendyol.com/asus/rog-strix-g16-g614jv-n3157-13-nesil-intel-i7-13650hx-16gb-512gb-ssd-8gb-rtx4060-16-fhd-165hz-p-660265163?boutiqueId=61&merchantId=149208 - Resim: https://cdn.dsmcdn.com/ty758/product/media/images/20230302/13/293384141/873226830/1/1_org.jpg\n",
      "ASUS Rog Strıx G16 - Fiyat: 60.173 TL - Link: https://www.trendyol.com/asus/rog-strix-g16-g614ju-n3195-intel-i7-13650hx-16gb-ddr5-512gb-ssd-6gb-rtx4050-16-wuxga-165hz-dos-p-661623406?boutiqueId=61&merchantId=820455 - Resim: https://cdn.dsmcdn.com/ty759/product/media/images/20230303/13/294810385/875024822/1/1_org.jpg\n",
      "ASUS  - Fiyat: 19.999 TL - Link: https://www.trendyol.com/asus/x515fa-ej116w-i3-10110u-4gb-ram-256gb-ssd-15-6-win11-laptop-gri-p-311976022?boutiqueId=61&merchantId=149270 - Resim: https://cdn.dsmcdn.com/ty451/product/media/images/20220610/11/123674649/497650596/1/1_org.jpg\n",
      "ASUS Laptop X515ma-br423t - Fiyat: 12.989 TL - Link: https://www.trendyol.com/asus/laptop-x515ma-br423t-celeron-n4020-4gb-ram-128gb-ssd-15-6-w10-notebook-p-176241631?boutiqueId=61&merchantId=409439 - Resim: https://cdn.dsmcdn.com/ty345/product/media/images/20220302/10/61206142/287192595/2/2_org.jpg\n",
      "ASUS X515MA-BR091T Intel - Fiyat: 12.989 TL - Link: https://www.trendyol.com/asus/x515ma-br091t-intel-celeron-n4020-4-gb-128-ssd-win10-15-6-p-88571198?boutiqueId=61&merchantId=409439 - Resim: https://cdn.dsmcdn.com/ty78/product/media/images/20210303/22/68428855/148011227/1/1_org.jpg\n"
     ]
    },
    {
     "name": "stderr",
     "output_type": "stream",
     "text": [
      "C:\\Users\\EMREHAN\\AppData\\Local\\Temp\\ipykernel_11836\\2522722012.py:67: DeprecationWarning: DataFrameGroupBy.apply operated on the grouping columns. This behavior is deprecated, and in a future version of pandas the grouping columns will be excluded from the operation. Either pass `include_groups=False` to exclude the groupings or explicitly select the grouping columns after groupby to silence this warning.\n",
      "  scores = recommendations.groupby('Product Name').apply(compute_laptop_score).reset_index(name='score')\n"
     ]
    },
    {
     "name": "stdout",
     "output_type": "stream",
     "text": [
      "Chatbot: Önerilen ürünler:\n",
      "Monster Abra A5 V16.7.3 Intel Core i5-11400H 16GB RAM 500GB SSD 4GB GTX1650 FreeDOS 15.6\" FHD 144Hz Oyun Bilgisayarı - Fiyat: 29.999 TL - Link: https://www.hepsiburada.com/monster-abra-a5-v16-7-3-intel-core-i5-11400h-16gb-ram-500gb-ssd-4gb-gtx1650-freedos-15-6-fhd-144hz-oyun-bilgisayari-pm-HBC00000IIGS8 - Resim: https://productimages.hepsiburada.net/s/274/424-600/110000260906908.jpg\n",
      "Casper Excalibur G870.1270-DFA0X-B Intel Core i7-12700H 32GB RAM 1TB NVME SSD GEN4 6GB RTX4050 Freedos Gaming Laptop - Fiyat: 40.361 TL - Link: https://www.hepsiburada.com/casper-excalibur-g870-1270-dfa0x-b-intel-core-i7-12700h-32gb-ram-1tb-nvme-ssd-gen4-6gb-rtx4050-freedos-gaming-laptop-pm-HBC00003ZQ9WH - Resim: https://productimages.hepsiburada.net/s/777/424-600/110000757050749.jpg\n",
      "Casper Excalibur G870.1245-DFB0X-B Intel Core i5-12450H 32GB RAM 1TB NVME SSD GEN4 8GB RTX4060 Freedos Gaming Laptop - Fiyat: 49.999 TL - Link: https://www.hepsiburada.com/casper-excalibur-g870-1245-dfb0x-b-intel-core-i5-12450h-32gb-ram-1tb-nvme-ssd-gen4-8gb-rtx4060-freedos-gaming-laptop-pm-HBC00003ZQBZJ - Resim: https://productimages.hepsiburada.net/s/777/424-600/110000757056578.jpg\n",
      "CASPER Nirvana X600.1245-BF00X-G-F Intel Core i5-12450H 16GB RAM 1TB NVME SSD Freedos - Fiyat: 120.999 TL - Link: https://www.amazon.com.tr/CASPER-Nirvana-X600-1245-BF00X-G-F-i5-12450H-Freedos/dp/B0DBGKBNHP/ref=sr_1_283?dib=eyJ2IjoiMSJ9.4f8lVpvIoHvyOMYU-rOhbxCeI93Pt7fqXwb97zAcVWaxFSNGqtMT1HdNljU3PpiCPKXAwFPXbWJ0r2Bzr2gKBD__IzGejVZx0Muih_2ZZkjUshMUoJkaQRL4_c9uQrcGM7yg7wRj2Pjm86A5pYLh3DjLQusHdHkCBkdiQvG-z8DEVCVffL5MsPb061Ce0ePw--Y6RifLzFUayNu_EnxzvCQZ47Yo5XzeB7s7Q6dTtEQLqYMUAjmUVvGHVXXuv1CN02vOZ3OUqR0yboAIbAz_Z-tRDzEND-LiXFPixNmTSxzv70Wl9M4-uKDpyOHuwL7PgXzIHEaWa7m2Bi1eUh6Wwq0DHZsBWNiMfJerwlmOqZI.APwSLBqP1f2JGrXAUcafJQAN7C_7yt2kYBtYLp47Ku4&dib_tag=se&qid=1738968130&s=computers&sr=1-283 - Resim: https://m.media-amazon.com/images/I/61a48IofWqL._AC_UL320_.jpg\n",
      "Casper Excalibur G770.1245-8VJ0X-B Intel Core i5-12450H 8GB RAM 500GB NVME SSD GEN4 4GB RTX3050 Freedos Gaming Laptop - Fiyat: 27.899 TL - Link: https://www.hepsiburada.com/casper-excalibur-g770-1245-8vj0x-b-intel-core-i5-12450h-8gb-ram-500gb-nvme-ssd-gen4-4gb-rtx3050-freedos-gaming-laptop-pm-HBC00002FCZHV - Resim: https://productimages.hepsiburada.net/s/777/424-600/110000757054828.jpg\n"
     ]
    },
    {
     "name": "stderr",
     "output_type": "stream",
     "text": [
      "C:\\Users\\EMREHAN\\AppData\\Local\\Temp\\ipykernel_11836\\2522722012.py:67: DeprecationWarning: DataFrameGroupBy.apply operated on the grouping columns. This behavior is deprecated, and in a future version of pandas the grouping columns will be excluded from the operation. Either pass `include_groups=False` to exclude the groupings or explicitly select the grouping columns after groupby to silence this warning.\n",
      "  scores = recommendations.groupby('Product Name').apply(compute_laptop_score).reset_index(name='score')\n"
     ]
    },
    {
     "name": "stdout",
     "output_type": "stream",
     "text": [
      "Chatbot: Önerilen ürünler:\n",
      "CASPER Nirvana X600.1245-BF00X-G-F Intel Core i5-12450H 16GB RAM 1TB NVME SSD Freedos - Fiyat: 120.999 TL - Link: https://www.amazon.com.tr/CASPER-Nirvana-X600-1245-BF00X-G-F-i5-12450H-Freedos/dp/B0DBGKBNHP/ref=sr_1_283?dib=eyJ2IjoiMSJ9.4f8lVpvIoHvyOMYU-rOhbxCeI93Pt7fqXwb97zAcVWaxFSNGqtMT1HdNljU3PpiCPKXAwFPXbWJ0r2Bzr2gKBD__IzGejVZx0Muih_2ZZkjUshMUoJkaQRL4_c9uQrcGM7yg7wRj2Pjm86A5pYLh3DjLQusHdHkCBkdiQvG-z8DEVCVffL5MsPb061Ce0ePw--Y6RifLzFUayNu_EnxzvCQZ47Yo5XzeB7s7Q6dTtEQLqYMUAjmUVvGHVXXuv1CN02vOZ3OUqR0yboAIbAz_Z-tRDzEND-LiXFPixNmTSxzv70Wl9M4-uKDpyOHuwL7PgXzIHEaWa7m2Bi1eUh6Wwq0DHZsBWNiMfJerwlmOqZI.APwSLBqP1f2JGrXAUcafJQAN7C_7yt2kYBtYLp47Ku4&dib_tag=se&qid=1738968130&s=computers&sr=1-283 - Resim: https://m.media-amazon.com/images/I/61a48IofWqL._AC_UL320_.jpg\n",
      "Casper Excalibur G870.1245-BVG0X-B Intel Core i5 12450H 16GB 500GB SSD RTX2050 Freedos 15.6\" FHD Taşınabilir Bilgisayar - Fiyat: 26.908 TL - Link: https://www.hepsiburada.com/casper-excalibur-g870-1245-bvg0x-b-intel-core-i5-12450h-16gb-500gb-ssd-rtx2050-freedos-15-6-fhd-tasinabilir-bilgisayar-pm-HBC00004NKMB8 - Resim: https://productimages.hepsiburada.net/s/777/424-600/110000809357119.jpg\n",
      "CASPER Nirvana C550.1235-BF00X-G-F Intel Core i5-1235U 16GB RAM 1TB NVME SSD GEN4 Freedos - Fiyat: 45.799 TL - Link: https://www.amazon.com.tr/Casper-Nirvana-C550-1235-BF00X-G-F-Intel-i5-1235U-Freedos/dp/B0CB1F6Z13/ref=sr_1_238?dib=eyJ2IjoiMSJ9.WdnFr0SZR7OhejWdLThRqY1WQW6sw6W7JXWmJuzpVPB_K2oWwSm8Uk8y2I64BrtfC_btcFPVE4qvwvrk_V6rcOWWuoMk16kO_ZTgSQykMIIKxKrFffAeKlWeGg7-k7p3MIlN9j-aOUD-3tU29zmokn3uLNsmRhFsuNwbi49GXbFaLLkNCruRADFB4xVPgZohDvE4qKuiJNZRdiPsDcj-F7ynwKwtEtxMJgTi9rSF4Wv8eA2gVuXWri8BXe0TMsgobm1Fk-BCxePQLZThwxT9zgaKwGCOMmBSsA8KvpEO25t22bkJ_E16DuBV23371M-y1ZAOdLsnkNCEc1pwoVZ_U3x8SZt76_P17syReImJ5ZU.nJlu9tI1u_aRpU9zB3qU6YNRuBUIgHEtc7CCWZZxVLU&dib_tag=se&qid=1738968089&s=computers&sr=1-238 - Resim: https://m.media-amazon.com/images/I/71NS1KrDGyL._AC_UL320_.jpg\n",
      "Casper Nirvana C550.1235-BV00X-G-F Intel Core i5 1235U 16GB 500GB SSD Freedos 15.6\" Taşınabilir Bilgisayar - Fiyat: 15.499 TL - Link: https://www.hepsiburada.com/casper-nirvana-c550-1235-bv00x-g-f-intel-core-i5-1235u-16gb-500gb-ssd-freedos-15-6-tasinabilir-bilgisayar-pm-HBC00004K3M6K - Resim: https://productimages.hepsiburada.net/s/495/424-600/110000545473005.jpg\n",
      "Casper Nirvana X600.1235-8U00X-G-F Intel Core i5 1235U 8GB 250GB SSD Freedos 15.6\" Taşınabilir Bilgisayar - Fiyat: 15.799 TL - Link: https://www.hepsiburada.com/casper-nirvana-x600-1235-8u00x-g-f-intel-core-i5-1235u-8gb-250gb-ssd-freedos-15-6-tasinabilir-bilgisayar-pm-HBC00005VMGXD - Resim: https://productimages.hepsiburada.net/s/561/424-600/110000624188609.jpg\n"
     ]
    },
    {
     "name": "stderr",
     "output_type": "stream",
     "text": [
      "C:\\Users\\EMREHAN\\AppData\\Local\\Temp\\ipykernel_11836\\2522722012.py:67: DeprecationWarning: DataFrameGroupBy.apply operated on the grouping columns. This behavior is deprecated, and in a future version of pandas the grouping columns will be excluded from the operation. Either pass `include_groups=False` to exclude the groupings or explicitly select the grouping columns after groupby to silence this warning.\n",
      "  scores = recommendations.groupby('Product Name').apply(compute_laptop_score).reset_index(name='score')\n"
     ]
    },
    {
     "name": "stdout",
     "output_type": "stream",
     "text": [
      "Chatbot: Önerilen ürünler:\n",
      "Dell VOSTRO 3520 i7-1255U - Fiyat: 32.999 TL - Link: https://www.trendyol.com/dell/vostro-3520-i7-1255u-32gb-1-tb-ssd-15-6-fhd-120hz-w11pro-n1608pvnb3520ut044-p-810300359?boutiqueId=61&merchantId=153128 - Resim: https://cdn.dsmcdn.com/ty1188/product/media/images/prod/SPM/PIM/20240229/15/efbb1bc9-f66a-367c-a93b-27b636c026b1/1_org.jpg\n",
      "Dell Inspiron 15 3520 - Fiyat: 15.999 TL - Link: https://www.trendyol.com/dell/inspiron-15-3520-i5-1235u-8gb-ram-256gb-ssd-15-6-inc-fhd-120hz-ubuntu-i35202009u-p-776388429?boutiqueId=61&merchantId=441895 - Resim: https://cdn.dsmcdn.com/ty1615/prod/QC/20241220/17/914717c6-c537-3d2a-bb48-ac5a75ae9faa/1_org.jpg\n",
      "Dell Vostro 3520 I5 1235U - Fiyat: 19.364 TL - Link: https://www.trendyol.com/dell/vostro-3520-i5-1235u-32gb-1tb-ssd-n1611pvnb3520ua23-15-6-w11-pro-tasinabilir-bilgisayar-p-785808030?boutiqueId=61&merchantId=153128 - Resim: https://cdn.dsmcdn.com/ty1074/product/media/images/prod/SPM/PIM/20231204/12/210a47e0-3b80-3a78-8670-514e0cf09ef0/1_org.jpg\n",
      "Dell Gaming G15 5530 - Fiyat: 45.699 TL - Link: https://www.trendyol.com/dell/gaming-g15-5530-g155530014u-i7-13650hx-16gb-ddr5-1tb-ssd-rtx4060-8gb-fhd-ubuntu-gaming-laptop-p-750510203?boutiqueId=61&merchantId=105369 - Resim: https://cdn.dsmcdn.com/ty982/product/media/images/20230810/12/401785116/988367745/1/1_org.jpg\n",
      "Dell VOSTRO 3520 Intel Core - Fiyat: 18.999 TL - Link: https://www.trendyol.com/dell/vostro-3520-intel-core-i5-1235u-32gb-1tb-ssd-15-6-fhd-freedos-n1605pvnb3520u008-p-789217650?boutiqueId=61&merchantId=114271 - Resim: https://cdn.dsmcdn.com/ty1092/product/media/images/prod/SPM/PIM/20231215/16/75106892-23b7-3bc2-bf75-80fb2f81abb6/1_org.jpg\n"
     ]
    },
    {
     "name": "stderr",
     "output_type": "stream",
     "text": [
      "C:\\Users\\EMREHAN\\AppData\\Local\\Temp\\ipykernel_11836\\2522722012.py:67: DeprecationWarning: DataFrameGroupBy.apply operated on the grouping columns. This behavior is deprecated, and in a future version of pandas the grouping columns will be excluded from the operation. Either pass `include_groups=False` to exclude the groupings or explicitly select the grouping columns after groupby to silence this warning.\n",
      "  scores = recommendations.groupby('Product Name').apply(compute_laptop_score).reset_index(name='score')\n"
     ]
    },
    {
     "name": "stdout",
     "output_type": "stream",
     "text": [
      "Chatbot: Önerilen ürünler:\n",
      "ACER Nitro 5 I7-12650h 8gb - Fiyat: 40.699 TL - Link: https://www.trendyol.com/acer/nitro-5-i7-12650h-8gb-1tb-ssd-8gb-rtx4060-linux-15-6-165hz-siyah-gaming-pc-nh-qm0ey-00b-p-784172188?boutiqueId=61&merchantId=107007 - Resim: https://cdn.dsmcdn.com/ty1597/prod/QC/20241105/15/506b5ee8-ec98-33d7-9e1f-4652fdf7dd03/1_org.jpg\n",
      "ASUS Amd Ryzen 3 3250u 8gb - Fiyat: 15.499 TL - Link: https://www.trendyol.com/asus/amd-ryzen-3-3250u-8gb-256gb-ssd-freedos-15-6-tasinabilir-bilgisayar-d515da-br114201-p-214686714?boutiqueId=61&merchantId=409439 - Resim: https://cdn.dsmcdn.com/ty279/product/media/images/20211229/18/18786513/347784804/1/1_org.jpg\n",
      "Acer Swift 3 SF314-43 AMD Ryzen 5 5500U 8GB 512GB SSD FreeDos 14\" Taşınabilir Bilgisayar NX.AB1EY.002 - Fiyat: 14.299 TL - Link: https://www.hepsiburada.com/acer-swift-3-sf314-43-amd-ryzen-5-5500u-8gb-512gb-ssd-freedos-14-tasinabilir-bilgisayar-nx-ab1ey-002-pm-HBC0000156DKJ - Resim: https://productimages.hepsiburada.net/s/221/424-600/110000200459964.jpg\n",
      "HP AMD Ryzen 7-5700U 8GB - Fiyat: 15.499 TL - Link: https://www.trendyol.com/hp/amd-ryzen-7-5700u-8gb-512gb-ssd-15-6-fhd-freedos-gumus-renkli-dizustu-bilgisayar-4h0j2ea-p-151145028?boutiqueId=61&merchantId=194340 - Resim: https://cdn.dsmcdn.com/ty1630/prod/QC/20250131/23/223e2ea9-93b6-3dea-9f5d-6ba177c223c5/1_org.jpg\n",
      "ACER Nitro 5 Intel Core - Fiyat: 31.999 TL - Link: https://www.trendyol.com/acer/nitro-5-intel-core-i5-12500h-8gb-512gb-ssd-rtx4050-w11-15-6-fhd-144hz-gaming-laptop-nh-qlzey-002-p-773939037?boutiqueId=678229&merchantId=968 - Resim: https://cdn.dsmcdn.com/ty1055/product/media/images/prod/PIM/20231121/08/b7eb814b-66fb-4c19-94e6-43f7ccf91997/1_org.jpg\n",
      "Chatbot: Görüşürüz!\n"
     ]
    }
   ],
   "source": [
    "import re\n",
    "import numpy as np\n",
    "import nltk\n",
    "import pandas as pd\n",
    "from gensim.models import Word2Vec\n",
    "from sklearn.metrics.pairwise import cosine_similarity\n",
    "\n",
    "# İlk çalıştırmada nltk 'punkt' kaynağını indiriyoruz.\n",
    "nltk.download('punkt')\n",
    "\n",
    "# Örnek: DataFrame'iniz 'urunler.csv' dosyasından yüklensin.\n",
    "# DataFrame'inizin aşağıdaki sütunları içerdiğini varsayıyoruz: \n",
    "# \"Product Name\", \"Price\", \"Page Link\", \"Image\"\n",
    "df = pd.read_csv(\"C://Users/Emrehan/Desktop/Emrehan Simsek/veri çekme selenium/training/all_laptop_reviews.csv\")\n",
    "\n",
    "# Öncelikle, aynı ürünlerin tekrarlanmaması için Product Name sütununa göre benzersiz satırları alıyoruz.\n",
    "df_unique = df.drop_duplicates(subset=['Product Name']).reset_index(drop=True)\n",
    "\n",
    "# Corpus olarak df_unique içerisindeki ürün isimlerini kullanıyoruz.\n",
    "corpus = df_unique['Product Name'].tolist()\n",
    "\n",
    "# Ön işleme fonksiyonu: Küçük harfe çevir, noktalama işaretlerini kaldır, token'lara ayır.\n",
    "def preprocess_text(text):\n",
    "    text = text.lower()\n",
    "    text = re.sub(r'[^\\w\\s]', '', text)\n",
    "    tokens = nltk.word_tokenize(text, language='turkish')\n",
    "    return tokens\n",
    "\n",
    "# Corpus'taki her ürün adını ön işleme tabi tutuyoruz.\n",
    "processed_corpus = [preprocess_text(sentence) for sentence in corpus]\n",
    "\n",
    "# Word2Vec modelini corpus üzerinden eğitiyoruz.\n",
    "model = Word2Vec(sentences=processed_corpus, vector_size=100, window=5, min_count=1, workers=4)\n",
    "\n",
    "# Bir cümlenin vektörünü, cümledeki kelime vektörlerinin ortalaması olarak hesaplayan fonksiyon.\n",
    "def sentence_vector(sentence, model):\n",
    "    tokens = preprocess_text(sentence)\n",
    "    vectors = [model.wv[token] for token in tokens if token in model.wv]\n",
    "    if vectors:\n",
    "        return np.mean(vectors, axis=0)\n",
    "    else:\n",
    "        return np.zeros(model.vector_size)\n",
    "\n",
    "# Corpus'taki her ürün adı için vektörleri hesaplıyoruz.\n",
    "corpus_vectors = np.array([sentence_vector(sentence, model) for sentence in corpus])\n",
    "\n",
    "print(\"Chatbot hazır. Çıkmak için 'çıkış' yazın.\")\n",
    "\n",
    "# Chatbot döngüsü: Kullanıcının sorgusuna göre en benzer 5 ürünü önerir.\n",
    "while True:\n",
    "    user_input = input(\"Siz: \").strip()\n",
    "    if user_input.lower() == \"çıkış\":\n",
    "        print(\"Chatbot: Görüşürüz!\")\n",
    "        break\n",
    "    \n",
    "    # Kullanıcının sorgusunun vektörünü hesapla.\n",
    "    query_vec = sentence_vector(user_input, model).reshape(1, -1)\n",
    "    \n",
    "    # Cosine similarity hesaplayıp benzerlik skorlarını elde et.\n",
    "    sims = cosine_similarity(query_vec, corpus_vectors)[0]\n",
    "    \n",
    "    # En yüksek benzerliğe sahip ilk 5 indeksi alıyoruz.\n",
    "    top_indices = np.argsort(sims)[-10:][::-1]\n",
    "    \n",
    "    # İlgili ürün bilgilerini df_unique'den alıyoruz.\n",
    "    recommendations = df_unique.iloc[top_indices]\n",
    "    scores = recommendations.groupby('Product Name').apply(compute_laptop_score).reset_index(name='score')\n",
    "    merged_df = recommendations.merge(scores, on='Product Name')\n",
    "    sorted_df = merged_df.sort_values(by='score', ascending=False).drop_duplicates(subset=['Product Name']).head(5)\n",
    "    \n",
    "    # Ürün adı, fiyat, link ve resim bilgilerini içeren yanıtı oluşturuyoruz.\n",
    "    response_lines = []\n",
    "    for _, row in sorted_df.iterrows():\n",
    "        line = f\"{row['Product Name']} - Fiyat: {row['Price']} - Link: {row['Link']} - Resim: {row['Image']}\"\n",
    "        response_lines.append(line)\n",
    "    \n",
    "    print(\"Chatbot: Önerilen ürünler:\\n\" + \"\\n\".join(response_lines))\n"
   ]
  },
  {
   "cell_type": "code",
   "execution_count": null,
   "metadata": {},
   "outputs": [],
   "source": []
  }
 ],
 "metadata": {
  "kernelspec": {
   "display_name": "Python 3",
   "language": "python",
   "name": "python3"
  },
  "language_info": {
   "codemirror_mode": {
    "name": "ipython",
    "version": 3
   },
   "file_extension": ".py",
   "mimetype": "text/x-python",
   "name": "python",
   "nbconvert_exporter": "python",
   "pygments_lexer": "ipython3",
   "version": "3.11.5"
  }
 },
 "nbformat": 4,
 "nbformat_minor": 2
}
