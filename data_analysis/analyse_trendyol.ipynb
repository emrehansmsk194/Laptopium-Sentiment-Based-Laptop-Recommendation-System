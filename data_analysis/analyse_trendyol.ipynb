{
 "cells": [
  {
   "cell_type": "code",
   "execution_count": 1,
   "metadata": {},
   "outputs": [
    {
     "name": "stdout",
     "output_type": "stream",
     "text": [
      "Requirement already satisfied: pandas in c:\\users\\emrehan\\appdata\\local\\programs\\python\\python311\\lib\\site-packages (2.2.3)\n",
      "Requirement already satisfied: numpy in c:\\users\\emrehan\\appdata\\local\\programs\\python\\python311\\lib\\site-packages (1.26.4)\n",
      "Requirement already satisfied: python-dateutil>=2.8.2 in c:\\users\\emrehan\\appdata\\local\\programs\\python\\python311\\lib\\site-packages (from pandas) (2.9.0.post0)\n",
      "Requirement already satisfied: pytz>=2020.1 in c:\\users\\emrehan\\appdata\\local\\programs\\python\\python311\\lib\\site-packages (from pandas) (2023.2)\n",
      "Requirement already satisfied: tzdata>=2022.7 in c:\\users\\emrehan\\appdata\\local\\programs\\python\\python311\\lib\\site-packages (from pandas) (2025.1)\n",
      "Requirement already satisfied: six>=1.5 in c:\\users\\emrehan\\appdata\\local\\programs\\python\\python311\\lib\\site-packages (from python-dateutil>=2.8.2->pandas) (1.16.0)\n",
      "Note: you may need to restart the kernel to use updated packages.\n"
     ]
    },
    {
     "name": "stderr",
     "output_type": "stream",
     "text": [
      "\n",
      "[notice] A new release of pip is available: 23.2.1 -> 25.0\n",
      "[notice] To update, run: python.exe -m pip install --upgrade pip\n"
     ]
    }
   ],
   "source": [
    "%pip install pandas numpy"
   ]
  },
  {
   "cell_type": "code",
   "execution_count": 6,
   "metadata": {},
   "outputs": [
    {
     "name": "stdout",
     "output_type": "stream",
     "text": [
      "                    Product Name      Price  \\\n",
      "0       LENOVO Ideapad 1 Celeron  13.380 TL   \n",
      "1  Apple Macbook Air 13'' M1 8gb  39.644 TL   \n",
      "2               CASPER Excalibur  29.350 TL   \n",
      "3                 CASPER Nirvana  10.650 TL   \n",
      "4     LENOVO IdeaPad3 Intel Core  15.399 TL   \n",
      "\n",
      "                                                Link  \\\n",
      "0  https://www.trendyol.com/lenovo/ideapad-1-cele...   \n",
      "1  https://www.trendyol.com/apple/macbook-air-13-...   \n",
      "2  https://www.trendyol.com/casper/excalibur-g770...   \n",
      "3  https://www.trendyol.com/casper/nirvana-c370-4...   \n",
      "4  https://www.trendyol.com/lenovo/ideapad3-intel...   \n",
      "\n",
      "                                               Image  \\\n",
      "0  https://cdn.dsmcdn.com/ty596/product/media/ima...   \n",
      "1  https://cdn.dsmcdn.com/ty437/product/media/ima...   \n",
      "2  https://cdn.dsmcdn.com/ty1549/product/media/im...   \n",
      "3  https://cdn.dsmcdn.com/ty1530/product/media/im...   \n",
      "4  https://cdn.dsmcdn.com/ty1532/product/media/im...   \n",
      "\n",
      "                                             Reviews  \n",
      "0  ikizime aldım çok güzel tavsiye ederim özelikl...  \n",
      "1  On numara beş yıldız Apple garantisi teşekkür ...  \n",
      "2  Eşime aldım çok memnun kaldık || Bir ay önce o...  \n",
      "3  daha çok yeni olduğu için performansına dair y...  \n",
      "4  Evde çalışıyorum ve işimi kolaylaştırıyor gaye...  \n"
     ]
    }
   ],
   "source": [
    "import pandas as pd\n",
    "import numpy as np\n",
    "df = pd.read_csv(\"C://Users/Emrehan/Desktop/Emrehan Simsek/veri çekme selenium/datasets/trendyol_products.csv\")\n",
    "print(df.head())"
   ]
  },
  {
   "cell_type": "code",
   "execution_count": 7,
   "metadata": {},
   "outputs": [
    {
     "name": "stdout",
     "output_type": "stream",
     "text": [
      "<class 'pandas.core.frame.DataFrame'>\n",
      "RangeIndex: 300 entries, 0 to 299\n",
      "Data columns (total 5 columns):\n",
      " #   Column        Non-Null Count  Dtype \n",
      "---  ------        --------------  ----- \n",
      " 0   Product Name  300 non-null    object\n",
      " 1   Price         300 non-null    object\n",
      " 2   Link          300 non-null    object\n",
      " 3   Image         300 non-null    object\n",
      " 4   Reviews       294 non-null    object\n",
      "dtypes: object(5)\n",
      "memory usage: 11.8+ KB\n"
     ]
    }
   ],
   "source": [
    "df.info()"
   ]
  },
  {
   "cell_type": "code",
   "execution_count": 8,
   "metadata": {},
   "outputs": [
    {
     "data": {
      "text/plain": [
       "Product Name    0\n",
       "Price           0\n",
       "Link            0\n",
       "Image           0\n",
       "Reviews         6\n",
       "dtype: int64"
      ]
     },
     "execution_count": 8,
     "metadata": {},
     "output_type": "execute_result"
    }
   ],
   "source": [
    "df.isna().sum()"
   ]
  },
  {
   "cell_type": "code",
   "execution_count": 9,
   "metadata": {},
   "outputs": [
    {
     "data": {
      "text/plain": [
       "0      ikizime aldım çok güzel tavsiye ederim özelikl...\n",
       "1      On numara beş yıldız Apple garantisi teşekkür ...\n",
       "2      Eşime aldım çok memnun kaldık || Bir ay önce o...\n",
       "3      daha çok yeni olduğu için performansına dair y...\n",
       "4      Evde çalışıyorum ve işimi kolaylaştırıyor gaye...\n",
       "                             ...                        \n",
       "295    alin aldirin. || herşey için teşekkürler || ba...\n",
       "296    İşletim sisteminin yükle gelmemesi haricinde p...\n",
       "297    ürünü aldık güzel kullanıyoruz sağlam geldi ||...\n",
       "298    GAYET MÜKKKK || Söze gerek yok harika ötesi bi...\n",
       "299    Çok çok iyi 👍 || Tek kelimeyle mükemmel bir la...\n",
       "Name: Reviews, Length: 300, dtype: object"
      ]
     },
     "execution_count": 9,
     "metadata": {},
     "output_type": "execute_result"
    }
   ],
   "source": [
    "df[\"Reviews\"]"
   ]
  },
  {
   "cell_type": "code",
   "execution_count": 13,
   "metadata": {},
   "outputs": [
    {
     "data": {
      "text/plain": [
       "'https://cdn.dsmcdn.com/ty1609/prod/QC/20241202/10/d80f7018-3056-3f54-9f7d-82a061965b5e/1_org.jpg'"
      ]
     },
     "execution_count": 13,
     "metadata": {},
     "output_type": "execute_result"
    }
   ],
   "source": [
    "df[\"Image\"][167]"
   ]
  },
  {
   "cell_type": "code",
   "execution_count": 14,
   "metadata": {},
   "outputs": [
    {
     "data": {
      "text/plain": [
       "'https://www.trendyol.com/apple/macbook-air-13-6-m2-8gb-256gb-ssd-uzay-grisi-p-335392170?boutiqueId=61&merchantId=141868'"
      ]
     },
     "execution_count": 14,
     "metadata": {},
     "output_type": "execute_result"
    }
   ],
   "source": [
    "df[\"Link\"][12]"
   ]
  },
  {
   "cell_type": "code",
   "execution_count": null,
   "metadata": {},
   "outputs": [],
   "source": []
  }
 ],
 "metadata": {
  "kernelspec": {
   "display_name": "Python 3",
   "language": "python",
   "name": "python3"
  },
  "language_info": {
   "codemirror_mode": {
    "name": "ipython",
    "version": 3
   },
   "file_extension": ".py",
   "mimetype": "text/x-python",
   "name": "python",
   "nbconvert_exporter": "python",
   "pygments_lexer": "ipython3",
   "version": "3.11.5"
  }
 },
 "nbformat": 4,
 "nbformat_minor": 2
}
