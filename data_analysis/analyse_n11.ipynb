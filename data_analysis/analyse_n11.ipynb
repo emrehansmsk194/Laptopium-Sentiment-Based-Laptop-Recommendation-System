{
 "cells": [
  {
   "cell_type": "code",
   "execution_count": 1,
   "metadata": {},
   "outputs": [
    {
     "name": "stdout",
     "output_type": "stream",
     "text": [
      "Requirement already satisfied: pandas in c:\\users\\emrehan\\appdata\\local\\programs\\python\\python311\\lib\\site-packages (2.2.3)\n",
      "Requirement already satisfied: numpy in c:\\users\\emrehan\\appdata\\local\\programs\\python\\python311\\lib\\site-packages (1.26.4)\n",
      "Requirement already satisfied: python-dateutil>=2.8.2 in c:\\users\\emrehan\\appdata\\local\\programs\\python\\python311\\lib\\site-packages (from pandas) (2.9.0.post0)\n",
      "Requirement already satisfied: pytz>=2020.1 in c:\\users\\emrehan\\appdata\\local\\programs\\python\\python311\\lib\\site-packages (from pandas) (2023.2)\n",
      "Requirement already satisfied: tzdata>=2022.7 in c:\\users\\emrehan\\appdata\\local\\programs\\python\\python311\\lib\\site-packages (from pandas) (2025.1)\n",
      "Requirement already satisfied: six>=1.5 in c:\\users\\emrehan\\appdata\\local\\programs\\python\\python311\\lib\\site-packages (from python-dateutil>=2.8.2->pandas) (1.16.0)\n",
      "Note: you may need to restart the kernel to use updated packages.\n"
     ]
    },
    {
     "name": "stderr",
     "output_type": "stream",
     "text": [
      "\n",
      "[notice] A new release of pip is available: 23.2.1 -> 25.0\n",
      "[notice] To update, run: python.exe -m pip install --upgrade pip\n"
     ]
    }
   ],
   "source": [
    "%pip install pandas numpy"
   ]
  },
  {
   "cell_type": "code",
   "execution_count": 1,
   "metadata": {},
   "outputs": [
    {
     "name": "stdout",
     "output_type": "stream",
     "text": [
      "                                        Product Name      Price  \\\n",
      "0  Lenovo V15 G4 AMN 82YU0123TX R5-7520U 16 GB 51...  13.848 TL   \n",
      "1  Apple MacBook Air MGN63TU/A Apple M1 8 GB 256 ...  31.779 TL   \n",
      "2  Monster Abra A5 V20.4 i5-12450H 16 GB 500 GB S...  32.499 TL   \n",
      "3  Apple MacBook Air MGN93TU/A Apple M1 8 GB RAM ...  36.999 TL   \n",
      "4  Apple MacBook Air MGND3TU/A Apple M1 8 GB RAM ...  36.999 TL   \n",
      "\n",
      "                                                Link  \\\n",
      "0  https://www.n11.com/urun/lenovo-v15-g4-amn-82y...   \n",
      "1  https://www.n11.com/urun/apple-macbook-air-mgn...   \n",
      "2  https://www.n11.com/urun/monster-abra-a5-v204-...   \n",
      "3  https://www.n11.com/urun/apple-macbook-air-mgn...   \n",
      "4  https://www.n11.com/urun/apple-macbook-air-mgn...   \n",
      "\n",
      "                                               Image  \\\n",
      "0  https://n11scdn.akamaized.net/a1/226_339/12/59...   \n",
      "1  https://n11scdn.akamaized.net/a1/226_339/11/13...   \n",
      "2  https://n11scdn.akamaized.net/a1/226_339/14/84...   \n",
      "3  https://n11scdn.akamaized.net/a1/226_339/10/09...   \n",
      "4  https://n11scdn.akamaized.net/a1/226_339/08/67...   \n",
      "\n",
      "                                             Reviews  \n",
      "0  25.01.2025 | Rating: 100 | Comment: Bu fiyata ...  \n",
      "1  23.01.2025 | Rating: 100 | Comment: TEŞEKKÜRLE...  \n",
      "2  23.01.2025 | Rating: 80 | Comment: Gayet kulla...  \n",
      "3  23.01.2025 | Rating: 100 | Comment: TEŞEKKÜRLE...  \n",
      "4  03.02.2025 | Rating: 100 | Comment: çook güzel...  \n"
     ]
    }
   ],
   "source": [
    "import pandas as pd\n",
    "import numpy as np\n",
    "df = pd.read_csv(\"C://Users/Emrehan/Desktop/Emrehan Simsek/veri çekme selenium/datasets/n11_products.csv\")\n",
    "print(df.head())"
   ]
  },
  {
   "cell_type": "code",
   "execution_count": 2,
   "metadata": {},
   "outputs": [
    {
     "data": {
      "text/plain": [
       "Product Name     0\n",
       "Price            0\n",
       "Link             0\n",
       "Image            0\n",
       "Reviews         93\n",
       "dtype: int64"
      ]
     },
     "execution_count": 2,
     "metadata": {},
     "output_type": "execute_result"
    }
   ],
   "source": [
    "df.isna().sum()"
   ]
  },
  {
   "cell_type": "code",
   "execution_count": 5,
   "metadata": {},
   "outputs": [
    {
     "data": {
      "text/plain": [
       "'29.01.2025 | Rating: 80 | Comment: güzel kullanışlı || 16.01.2025 | Rating: 100 | Comment: Güzel kaliteli || 04.01.2025 | Rating: 100 | Comment: Kutu açılımını yaptım , ve ürün şu anda şimdilik başarılı görünüyor .. fiyat performans ürünü.. || 27.12.2024 | Rating: 100 | Comment: Hiçbir sıkıntı yaşamadık. || 27.12.2024 | Rating: 100 | Comment: Sorunsuz || 24.12.2024 | Rating: 100 | Comment: Klasik işler için yeterli. Çok da bir şey beklemeyenler için ideal. || 23.12.2024 | Rating: 100 | Comment: Güzel telefon alın. || 19.12.2024 | Rating: 100 | Comment: Ofis isleri icin gayet yeterli || 30.11.2024 | Rating: 100 | Comment: Memnun kaldim || 24.11.2024 | Rating: 100 | Comment: Teşekkür ederim || 23.11.2024 | Rating: 100 | Comment: Süper fiyat || 20.11.2024 | Rating: 100 | Comment: Ürün ve kargo sorunsuz || 18.11.2024 | Rating: 100 | Comment: İdare eder iyi fiyat malum || 06.11.2024 | Rating: 100 | Comment: cok beğendim. işlevsel. || 27.10.2024 | Rating: 100 | Comment: teşekkürler || 16.10.2024 | Rating: 100 | Comment: f/p ürünü. Gayet başarılı. Teşekkürler'"
      ]
     },
     "execution_count": 5,
     "metadata": {},
     "output_type": "execute_result"
    }
   ],
   "source": [
    "df[\"Reviews\"][5]"
   ]
  },
  {
   "cell_type": "code",
   "execution_count": 6,
   "metadata": {},
   "outputs": [
    {
     "data": {
      "text/plain": [
       "'https://n11scdn.akamaized.net/a1/226_339/14/84/59/08/IMG-1265821632211229120.jpg'"
      ]
     },
     "execution_count": 6,
     "metadata": {},
     "output_type": "execute_result"
    }
   ],
   "source": [
    "df[\"Image\"][2]"
   ]
  },
  {
   "cell_type": "code",
   "execution_count": 7,
   "metadata": {},
   "outputs": [
    {
     "name": "stdout",
     "output_type": "stream",
     "text": [
      "<class 'pandas.core.frame.DataFrame'>\n",
      "RangeIndex: 500 entries, 0 to 499\n",
      "Data columns (total 5 columns):\n",
      " #   Column        Non-Null Count  Dtype \n",
      "---  ------        --------------  ----- \n",
      " 0   Product Name  500 non-null    object\n",
      " 1   Price         500 non-null    object\n",
      " 2   Link          500 non-null    object\n",
      " 3   Image         500 non-null    object\n",
      " 4   Reviews       407 non-null    object\n",
      "dtypes: object(5)\n",
      "memory usage: 19.7+ KB\n"
     ]
    }
   ],
   "source": [
    "df.info()"
   ]
  },
  {
   "cell_type": "code",
   "execution_count": null,
   "metadata": {},
   "outputs": [],
   "source": []
  }
 ],
 "metadata": {
  "kernelspec": {
   "display_name": "Python 3",
   "language": "python",
   "name": "python3"
  },
  "language_info": {
   "codemirror_mode": {
    "name": "ipython",
    "version": 3
   },
   "file_extension": ".py",
   "mimetype": "text/x-python",
   "name": "python",
   "nbconvert_exporter": "python",
   "pygments_lexer": "ipython3",
   "version": "3.11.5"
  }
 },
 "nbformat": 4,
 "nbformat_minor": 2
}
